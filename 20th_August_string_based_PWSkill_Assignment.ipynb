{
  "nbformat": 4,
  "nbformat_minor": 0,
  "metadata": {
    "colab": {
      "provenance": [],
      "toc_visible": true
    },
    "kernelspec": {
      "name": "python3",
      "display_name": "Python 3"
    },
    "language_info": {
      "name": "python"
    }
  },
  "cells": [
    {
      "cell_type": "markdown",
      "source": [
        "Write a program to reverse a string."
      ],
      "metadata": {
        "id": "sylq_I2Ojbaf"
      }
    },
    {
      "cell_type": "code",
      "execution_count": null,
      "metadata": {
        "colab": {
          "base_uri": "https://localhost:8080/"
        },
        "id": "6u1mRAwEjP97",
        "outputId": "a15b120c-d9c6-4a51-f0f7-de1f8f690a58"
      },
      "outputs": [
        {
          "output_type": "stream",
          "name": "stdout",
          "text": [
            "Enter the string to reverse:Aditya\n",
            "aytidA\n"
          ]
        }
      ],
      "source": [
        "string=input(\"Enter the string to reverse:\")\n",
        "print(string[::-1])"
      ]
    },
    {
      "cell_type": "markdown",
      "source": [
        "Check if a string is a palindrome.\n"
      ],
      "metadata": {
        "id": "5Lwf85XBj1dR"
      }
    },
    {
      "cell_type": "code",
      "source": [
        "string=input(\"Enter the string:\")\n",
        "l=[]\n",
        "def palindrom(str):\n",
        "  for i in range(len(str)):\n",
        "    if i<=len(str)//2:\n",
        "      if str[i]!=str[(len(str)-1)-i]:\n",
        "        break\n",
        "      else:\n",
        "        l.append(True)\n",
        "    else:\n",
        "      break\n",
        "  if (len(str)//2)+1==len(l):\n",
        "    return(\"The string is palindrome\")\n",
        "  else:\n",
        "    return(\"The string is not palindrome\")\n",
        "palindrom(string)\n",
        "\n",
        "\n",
        "\n",
        "\n"
      ],
      "metadata": {
        "colab": {
          "base_uri": "https://localhost:8080/",
          "height": 53
        },
        "id": "tzS5wLzTjw5-",
        "outputId": "83fc2238-0b5d-42ca-b4f0-d5ef600b2206"
      },
      "execution_count": null,
      "outputs": [
        {
          "name": "stdout",
          "output_type": "stream",
          "text": [
            "Enter the string:abcba\n"
          ]
        },
        {
          "output_type": "execute_result",
          "data": {
            "text/plain": [
              "'The string is palindrome'"
            ],
            "application/vnd.google.colaboratory.intrinsic+json": {
              "type": "string"
            }
          },
          "metadata": {},
          "execution_count": 14
        }
      ]
    },
    {
      "cell_type": "markdown",
      "source": [
        "Convert a string to uppercase."
      ],
      "metadata": {
        "id": "6cJn22VlrR3N"
      }
    },
    {
      "cell_type": "code",
      "source": [
        "string =input(\"Enter the string:\")\n",
        "print(string.upper())"
      ],
      "metadata": {
        "colab": {
          "base_uri": "https://localhost:8080/"
        },
        "id": "JagGYDP8m7Z4",
        "outputId": "24a0df89-5098-4a77-d978-09b12080e6d2"
      },
      "execution_count": null,
      "outputs": [
        {
          "output_type": "stream",
          "name": "stdout",
          "text": [
            "Enter the string:AdItya\n",
            "ADITYA\n"
          ]
        }
      ]
    },
    {
      "cell_type": "markdown",
      "source": [
        "Convert a string to lowercase."
      ],
      "metadata": {
        "id": "k6U4D8iwrnGh"
      }
    },
    {
      "cell_type": "code",
      "source": [
        "string =input(\"Enter the string:\")\n",
        "print(string.lower())"
      ],
      "metadata": {
        "colab": {
          "base_uri": "https://localhost:8080/"
        },
        "id": "x-3-XXJeq6vc",
        "outputId": "407c5492-3b57-4e0b-992e-adc5e55a1860"
      },
      "execution_count": null,
      "outputs": [
        {
          "output_type": "stream",
          "name": "stdout",
          "text": [
            "Enter the string:ADItya\n",
            "aditya\n"
          ]
        }
      ]
    },
    {
      "cell_type": "markdown",
      "source": [
        "Count the number of vowels in a string."
      ],
      "metadata": {
        "id": "uhgIm-u1sqBS"
      }
    },
    {
      "cell_type": "code",
      "source": [
        "string=input(\"Enter the string:\")\n",
        "def count(str):\n",
        "  c=0\n",
        "  for i in str:\n",
        "    if i in 'aeiouAEIOU':\n",
        "      c=c+1\n",
        "  return(print(\"Number of vowels in a string is:\",c))\n",
        "count(string)"
      ],
      "metadata": {
        "colab": {
          "base_uri": "https://localhost:8080/"
        },
        "id": "0qHOCNYPsPFf",
        "outputId": "3bcd95d7-09f6-4b21-8e19-7015df8fa5b1"
      },
      "execution_count": null,
      "outputs": [
        {
          "output_type": "stream",
          "name": "stdout",
          "text": [
            "Enter the string:Aditya\n",
            "Number of vowels in a string is: 3\n"
          ]
        }
      ]
    },
    {
      "cell_type": "markdown",
      "source": [
        "Count the number of consonants in a string."
      ],
      "metadata": {
        "id": "6GX7oRImuJqD"
      }
    },
    {
      "cell_type": "code",
      "source": [
        "string=input(\"Enter the string:\")\n",
        "def consonant(str):\n",
        "  c=0\n",
        "  for i in str:\n",
        "    if i not in 'aeiouAEIOU':\n",
        "      c=c+1\n",
        "  return(print(\"Number of consonant in a string is:\",c))\n",
        "consonant(string)"
      ],
      "metadata": {
        "colab": {
          "base_uri": "https://localhost:8080/"
        },
        "id": "RGnRXlcAtkfI",
        "outputId": "ce593d1f-ed97-420e-ee50-274b87d0f51f"
      },
      "execution_count": null,
      "outputs": [
        {
          "output_type": "stream",
          "name": "stdout",
          "text": [
            "Enter the string:adiittyya\n",
            "Number of consonant in a string is: 5\n"
          ]
        }
      ]
    },
    {
      "cell_type": "markdown",
      "source": [
        "Remove all whitespaces from a string."
      ],
      "metadata": {
        "id": "dke0hPVqs9Me"
      }
    },
    {
      "cell_type": "code",
      "source": [
        "string=input(\"Enter the string:\")\n",
        "#def remove_space(str):\n",
        "  #return string.replace(\" \",\"\")\n",
        "#print(remove_space(string))\n",
        "def remove(str):\n",
        "  return \"\".join(string.split())\n",
        "print(remove(string))\n"
      ],
      "metadata": {
        "colab": {
          "base_uri": "https://localhost:8080/"
        },
        "id": "5TMi7oh6uWIn",
        "outputId": "fda2dc6c-6fc0-4000-ed8d-8c9feca47fbb"
      },
      "execution_count": null,
      "outputs": [
        {
          "output_type": "stream",
          "name": "stdout",
          "text": [
            "Enter the string:aditya singh\n",
            "adityasingh\n"
          ]
        }
      ]
    },
    {
      "cell_type": "markdown",
      "source": [
        "Find the length of a string without using the `len()` function."
      ],
      "metadata": {
        "id": "K2cpfiZds_OE"
      }
    },
    {
      "cell_type": "code",
      "source": [
        "s=input(\"Enter the string:\")\n",
        "c=0\n",
        "for i in s:\n",
        "  c=c+1\n",
        "print(\"The length of the string is:\",c)"
      ],
      "metadata": {
        "id": "OcKdphBsu-Ru",
        "colab": {
          "base_uri": "https://localhost:8080/"
        },
        "outputId": "6cd8a684-ce8f-4b4c-8432-edfc29135d3a"
      },
      "execution_count": null,
      "outputs": [
        {
          "output_type": "stream",
          "name": "stdout",
          "text": [
            "Enter the string:Sanatan Dharma\n",
            "The length of the string is: 14\n"
          ]
        }
      ]
    },
    {
      "cell_type": "markdown",
      "source": [
        "Check if a string contains a specific word."
      ],
      "metadata": {
        "id": "MYNK4F-htm2C"
      }
    },
    {
      "cell_type": "code",
      "source": [
        "s=input(\"Enter the string:\")\n",
        "substring=input(\"Enter the string to search:\")\n",
        "if substring in s:\n",
        "  print(\"The word is present in the string\")\n",
        "else:\n",
        "  print(\"Word not present\")"
      ],
      "metadata": {
        "colab": {
          "base_uri": "https://localhost:8080/"
        },
        "id": "anRimeXXdIOT",
        "outputId": "9bb01ec9-309e-463c-c67f-3a37bdd35c0b"
      },
      "execution_count": null,
      "outputs": [
        {
          "output_type": "stream",
          "name": "stdout",
          "text": [
            "Enter the string:Check if a string contains a specific word\n",
            "Enter the string to search:string\n",
            "The word is present in the string\n"
          ]
        }
      ]
    },
    {
      "cell_type": "markdown",
      "source": [
        "Replace a word in a string with another word."
      ],
      "metadata": {
        "id": "aFibgWwuuoET"
      }
    },
    {
      "cell_type": "code",
      "source": [
        "s=input(\"Enter the string:\")\n",
        "r=input(\"enter the word to be replace:\")\n",
        "a=input(\"enter the word to replace with:\")\n",
        "\n",
        "replaced_s=s.replace(r,a)\n",
        "print(replaced_s)"
      ],
      "metadata": {
        "colab": {
          "base_uri": "https://localhost:8080/"
        },
        "id": "9n_yoBJ7uJ-W",
        "outputId": "33655599-b619-4e66-a84a-ae4f95c2ee2a"
      },
      "execution_count": null,
      "outputs": [
        {
          "output_type": "stream",
          "name": "stdout",
          "text": [
            "Enter the string:sanatan dharma is the way of life\n",
            "enter the word to be replace:sanatan\n",
            "enter the word to replace with:hindu\n",
            "hindu dharma is the way of life\n"
          ]
        }
      ]
    },
    {
      "cell_type": "markdown",
      "source": [
        "Count the occurrences of a word in a string."
      ],
      "metadata": {
        "id": "vMwTN35MwuyA"
      }
    },
    {
      "cell_type": "code",
      "source": [
        "s=input(\"Enter the string:\")\n",
        "print(s.count(input(\"Enter the word to count:\")))"
      ],
      "metadata": {
        "colab": {
          "base_uri": "https://localhost:8080/"
        },
        "id": "3_5D4UtHvni1",
        "outputId": "3a4ae220-5c75-4623-e540-62579961f4e1"
      },
      "execution_count": null,
      "outputs": [
        {
          "output_type": "stream",
          "name": "stdout",
          "text": [
            "Enter the string:is is is my name my\n",
            "Enter the word to count:is\n",
            "3\n"
          ]
        }
      ]
    },
    {
      "cell_type": "markdown",
      "source": [
        "Find the first occurrence of a word in a string."
      ],
      "metadata": {
        "id": "pXPVN7-1wsyK"
      }
    },
    {
      "cell_type": "code",
      "source": [
        "s=input(\"Enter the string:\")\n",
        "print(s.index(input(\"enter the word\")))"
      ],
      "metadata": {
        "colab": {
          "base_uri": "https://localhost:8080/"
        },
        "id": "ncEiJQxGwely",
        "outputId": "95fc8140-44a5-41d2-d013-cef660cda513"
      },
      "execution_count": null,
      "outputs": [
        {
          "output_type": "stream",
          "name": "stdout",
          "text": [
            "Enter the string:my name is aditya singh\n",
            "enter the wordis\n",
            "8\n"
          ]
        }
      ]
    },
    {
      "cell_type": "markdown",
      "source": [
        "Find the last occurrence of a word in a string."
      ],
      "metadata": {
        "id": "l3lyDSXzyK2q"
      }
    },
    {
      "cell_type": "code",
      "source": [
        "s=input(\"Enter the string:\")\n",
        "print(str(s.rfind(input(\"Enter the word\"))))"
      ],
      "metadata": {
        "colab": {
          "base_uri": "https://localhost:8080/"
        },
        "id": "k0XSW5vlxLHv",
        "outputId": "acdab64f-d798-4ef3-f321-8c17211a8ee3"
      },
      "execution_count": null,
      "outputs": [
        {
          "output_type": "stream",
          "name": "stdout",
          "text": [
            "Enter the string:aditya is a good boy\n",
            "Enter the wordgood\n",
            "12\n"
          ]
        }
      ]
    },
    {
      "cell_type": "markdown",
      "source": [
        "Split a string into a list of words."
      ],
      "metadata": {
        "id": "DsBV0tS-zRsv"
      }
    },
    {
      "cell_type": "code",
      "source": [
        "s=input(\"Enter the string:\")\n",
        "print(list(s.split()))"
      ],
      "metadata": {
        "colab": {
          "base_uri": "https://localhost:8080/"
        },
        "id": "SF8zZmiuyYm1",
        "outputId": "eaf98d53-a921-439d-9f95-1b83e11a3d36"
      },
      "execution_count": null,
      "outputs": [
        {
          "output_type": "stream",
          "name": "stdout",
          "text": [
            "Enter the string:aditya is a beast\n",
            "['aditya', 'is', 'a', 'beast']\n"
          ]
        }
      ]
    },
    {
      "cell_type": "markdown",
      "source": [
        "Join a list of words into a string."
      ],
      "metadata": {
        "id": "ZWocHxe4zlYK"
      }
    },
    {
      "cell_type": "code",
      "source": [
        "s=list(map(str,input().split()))\n",
        "print(\"\".join(s))"
      ],
      "metadata": {
        "colab": {
          "base_uri": "https://localhost:8080/"
        },
        "id": "ZWxlc5j9zd78",
        "outputId": "51a0f5b7-246e-4541-c9d1-6a7f69f73fb9"
      },
      "execution_count": null,
      "outputs": [
        {
          "output_type": "stream",
          "name": "stdout",
          "text": [
            "aditya singh is a good boy\n",
            "adityasinghisagoodboy\n"
          ]
        }
      ]
    },
    {
      "cell_type": "markdown",
      "source": [
        "Convert a string where words are separated by spaces to one where words are separated by underscores."
      ],
      "metadata": {
        "id": "Wks8Wuu-wh70"
      }
    },
    {
      "cell_type": "code",
      "source": [
        "s=input(\"Enter the string:\")\n",
        "print(s.replace(\" \",\"_\"))"
      ],
      "metadata": {
        "id": "GZwr8TcM0H2f",
        "colab": {
          "base_uri": "https://localhost:8080/"
        },
        "outputId": "1e6e9467-3468-4aff-bbf4-99957b3d5954"
      },
      "execution_count": null,
      "outputs": [
        {
          "output_type": "stream",
          "name": "stdout",
          "text": [
            "Enter the string:aditya singh rajput\n",
            "aditya_singh_rajput\n"
          ]
        }
      ]
    },
    {
      "cell_type": "markdown",
      "source": [
        "Check if a string starts with a specific word or phrase."
      ],
      "metadata": {
        "id": "eM6ku3aLxUnW"
      }
    },
    {
      "cell_type": "code",
      "source": [
        "s=input(\"Enter the string: \")\n",
        "word=input(\"Enter the word to check: \")\n",
        "if s.startswith(word)==True:\n",
        "  print(\"The string starts with\",word)\n",
        "else:\n",
        "  print(\"The string do not start with\",word)"
      ],
      "metadata": {
        "colab": {
          "base_uri": "https://localhost:8080/"
        },
        "id": "na36RjBVwyIo",
        "outputId": "6fc7d2ec-65de-42b9-f844-214345100480"
      },
      "execution_count": null,
      "outputs": [
        {
          "output_type": "stream",
          "name": "stdout",
          "text": [
            "Enter the string: aditya\n",
            "Enter the word to check: d\n",
            "The string do not start with d\n"
          ]
        }
      ]
    },
    {
      "cell_type": "markdown",
      "source": [
        "Check if a string ends with a specific word or phrase."
      ],
      "metadata": {
        "id": "y4hfwOzMz2yl"
      }
    },
    {
      "cell_type": "code",
      "source": [
        "s=input(\"Enter the string: \")\n",
        "word=input(\"Enter the word to check: \")\n",
        "if s.endswith(word)==True:\n",
        "  print(\"The string starts with\",word)\n",
        "else:\n",
        "  print(\"The string do not start with\",word)"
      ],
      "metadata": {
        "colab": {
          "base_uri": "https://localhost:8080/"
        },
        "id": "pZ2paHGrzb5I",
        "outputId": "8a3533b1-8f7f-44d3-8325-b01d698d5295"
      },
      "execution_count": null,
      "outputs": [
        {
          "output_type": "stream",
          "name": "stdout",
          "text": [
            "Enter the string: abcdef\n",
            "Enter the word to check: f\n",
            "The string starts with f\n"
          ]
        }
      ]
    },
    {
      "cell_type": "markdown",
      "source": [
        "Convert a string to title case (e.g., \"hello world\" to \"Hello World\")."
      ],
      "metadata": {
        "id": "cdR_ozjO4Jjr"
      }
    },
    {
      "cell_type": "code",
      "source": [
        "s=input(\"Enter the string: \")\n",
        "print(s.title())"
      ],
      "metadata": {
        "colab": {
          "base_uri": "https://localhost:8080/"
        },
        "id": "mOvawUi63LtY",
        "outputId": "c78a45db-c252-4ef4-e7ee-ddaa2f2ed67c"
      },
      "execution_count": null,
      "outputs": [
        {
          "output_type": "stream",
          "name": "stdout",
          "text": [
            "Enter the string: aditya singh\n",
            "Aditya Singh\n"
          ]
        }
      ]
    },
    {
      "cell_type": "markdown",
      "source": [
        "Find the longest word in a string."
      ],
      "metadata": {
        "id": "lIDTVg8W8VUW"
      }
    },
    {
      "cell_type": "code",
      "source": [
        "s=input(\"Enter the string: \")\n",
        "l={}\n",
        "for i in s.split():\n",
        "  l[i]=len(i)\n",
        "for i in l.keys():\n",
        "  if l[i]==max(l.values()):\n",
        "    print(i,\"is the longest word in the string\")\n",
        "\n",
        "\n"
      ],
      "metadata": {
        "colab": {
          "base_uri": "https://localhost:8080/"
        },
        "id": "yD0phRBR4aCE",
        "outputId": "b731da3a-1a42-4ea2-fbcd-7b3274127fde"
      },
      "execution_count": null,
      "outputs": [
        {
          "output_type": "stream",
          "name": "stdout",
          "text": [
            "Enter the string: aditya singh the great\n",
            "aditya is the longest word in the string\n"
          ]
        }
      ]
    },
    {
      "cell_type": "markdown",
      "source": [
        "Find the shortest word in a string."
      ],
      "metadata": {
        "id": "S_pHc2H-B9xi"
      }
    },
    {
      "cell_type": "code",
      "source": [
        "s=input(\"Enter the string: \")\n",
        "l={}\n",
        "for i in s.split():\n",
        "  l[i]=len(i)\n",
        "for i in l.keys():\n",
        "  if l[i]==min(l.values()):\n",
        "    print(i,\"is the shortest word in the string\")"
      ],
      "metadata": {
        "colab": {
          "base_uri": "https://localhost:8080/"
        },
        "id": "P-ATraQw88Rs",
        "outputId": "245d005c-a545-4cf8-c90f-9729bbc60601"
      },
      "execution_count": null,
      "outputs": [
        {
          "output_type": "stream",
          "name": "stdout",
          "text": [
            "Enter the string: aditya singh the great\n",
            "the is the shortest word in the string\n"
          ]
        }
      ]
    },
    {
      "cell_type": "markdown",
      "source": [
        "Reverse the order of words in a string."
      ],
      "metadata": {
        "id": "BuP1omw_CMuG"
      }
    },
    {
      "cell_type": "code",
      "source": [
        "s=input(\"Enter the string: \")\n",
        "print(\" \".join(list(reversed(s.split()))))"
      ],
      "metadata": {
        "colab": {
          "base_uri": "https://localhost:8080/"
        },
        "id": "xE4GujLICEwT",
        "outputId": "095e7d31-769b-46f5-d1c7-7e8a490ee20c"
      },
      "execution_count": null,
      "outputs": [
        {
          "output_type": "stream",
          "name": "stdout",
          "text": [
            "Enter the string: aditya singh is a beast\n",
            "beast a is singh aditya\n"
          ]
        }
      ]
    },
    {
      "cell_type": "markdown",
      "source": [
        "Check if a string is alphanumeric."
      ],
      "metadata": {
        "id": "ArtsiP-gCtro"
      }
    },
    {
      "cell_type": "code",
      "source": [
        "s=input(\"Enter the string: \")\n",
        "if s.isalnum():\n",
        "  print(s,\": is alphanumeric\")\n",
        "else:\n",
        "  print(s,\": is not alphanumeric\")"
      ],
      "metadata": {
        "colab": {
          "base_uri": "https://localhost:8080/"
        },
        "id": "ORyjM-XBClcu",
        "outputId": "b763fb98-53dd-450b-8957-a2a966edb510"
      },
      "execution_count": null,
      "outputs": [
        {
          "output_type": "stream",
          "name": "stdout",
          "text": [
            "Enter the string: 123@erds\n",
            "123@erds : is not alphanumeric\n"
          ]
        }
      ]
    },
    {
      "cell_type": "code",
      "source": [
        "s=input(\"Enter the string: \")\n",
        "for i in s:\n",
        "  if i.isdigit():\n",
        "    print(i,end=\"\")"
      ],
      "metadata": {
        "colab": {
          "base_uri": "https://localhost:8080/"
        },
        "id": "zHlKTL-wDWy9",
        "outputId": "9d87f838-0c54-496d-80e2-8f908bfc79ae"
      },
      "execution_count": null,
      "outputs": [
        {
          "output_type": "stream",
          "name": "stdout",
          "text": [
            "Enter the string: 123aditya23singh\n",
            "12323"
          ]
        }
      ]
    },
    {
      "cell_type": "markdown",
      "source": [
        "Extract all alphabets from a string."
      ],
      "metadata": {
        "id": "ylSFaRIOEQPD"
      }
    },
    {
      "cell_type": "code",
      "source": [
        "s=input(\"Enter the string: \")\n",
        "for i in s:\n",
        "  if i.isalpha():\n",
        "    print(i,end=\"\")"
      ],
      "metadata": {
        "colab": {
          "base_uri": "https://localhost:8080/"
        },
        "id": "YTzJ03whEG0z",
        "outputId": "76b61b54-cb5a-4053-ef95-a8878c44a6a4"
      },
      "execution_count": null,
      "outputs": [
        {
          "output_type": "stream",
          "name": "stdout",
          "text": [
            "Enter the string: aditya@123\n",
            "aditya"
          ]
        }
      ]
    },
    {
      "cell_type": "markdown",
      "source": [
        "Count the number of uppercase letters in a string."
      ],
      "metadata": {
        "id": "MS9SQ_EHEpRD"
      }
    },
    {
      "cell_type": "code",
      "source": [
        "s=input(\"Enter the string: \")\n",
        "c=0\n",
        "for i in s:\n",
        "  if i.isupper():\n",
        "    c=c+1\n",
        "print(\"String has\",c,\"uppercase\")\n"
      ],
      "metadata": {
        "colab": {
          "base_uri": "https://localhost:8080/"
        },
        "id": "h4Ms_wi5EavF",
        "outputId": "026c7cb3-7325-4b5a-cf74-cfcd0330ea90"
      },
      "execution_count": null,
      "outputs": [
        {
          "output_type": "stream",
          "name": "stdout",
          "text": [
            "Enter the string: AdityASingh\n",
            "String has 3 uppercase\n"
          ]
        }
      ]
    },
    {
      "cell_type": "markdown",
      "source": [
        "Count the number of lowercase letters in a string."
      ],
      "metadata": {
        "id": "l7QbtikLHcvi"
      }
    },
    {
      "cell_type": "code",
      "source": [
        "s=input(\"Enter the string: \")\n",
        "c=0\n",
        "for i in s:\n",
        "  if i.islower():\n",
        "    c=c+1\n",
        "print(\"String has\",c,\"lowercase\")"
      ],
      "metadata": {
        "colab": {
          "base_uri": "https://localhost:8080/"
        },
        "id": "4Nmb-GK3Gqy0",
        "outputId": "d74934c5-4bbf-4ea4-9016-2e19b0e2726c"
      },
      "execution_count": null,
      "outputs": [
        {
          "output_type": "stream",
          "name": "stdout",
          "text": [
            "Enter the string: adityaSINGH\n",
            "String has 6 lowercase\n"
          ]
        }
      ]
    },
    {
      "cell_type": "markdown",
      "source": [
        "Swap the case of each character in a string."
      ],
      "metadata": {
        "id": "sPxzGzDrIaJr"
      }
    },
    {
      "cell_type": "code",
      "source": [
        "s=input(\"Enter the string: \")\n",
        "x=\"\"\n",
        "for i in s:\n",
        "  if i.isupper():\n",
        "    x+=i.lower()\n",
        "  else:\n",
        "    x+=i.upper()\n",
        "print(x)"
      ],
      "metadata": {
        "colab": {
          "base_uri": "https://localhost:8080/"
        },
        "id": "N2-P5oANHn1h",
        "outputId": "df0c49a3-1414-4327-f2f2-5818bf7a0e8a"
      },
      "execution_count": null,
      "outputs": [
        {
          "output_type": "stream",
          "name": "stdout",
          "text": [
            "Enter the string: ADITYAsingh\n",
            "adityaSINGH\n"
          ]
        }
      ]
    },
    {
      "cell_type": "markdown",
      "source": [
        "Remove a specific word from a string."
      ],
      "metadata": {
        "id": "LMnQDi0_Kmwu"
      }
    },
    {
      "cell_type": "code",
      "source": [
        "s=input(\"Enter the string:\")\n",
        "word=input(\"Enter the word to be romoved:\")\n",
        "if word in s:\n",
        "  print(s.replace(word,\"\"))\n",
        "else:\n",
        "  print(\"Word not present in the string\")"
      ],
      "metadata": {
        "id": "MSl6ndxpIv7y",
        "colab": {
          "base_uri": "https://localhost:8080/"
        },
        "outputId": "a3080d7b-e278-4d9d-dc55-b4ca29542d28"
      },
      "execution_count": null,
      "outputs": [
        {
          "output_type": "stream",
          "name": "stdout",
          "text": [
            "Enter the string:Aditya singh\n",
            "Enter the word to be romoved:i\n",
            "Adtya sngh\n"
          ]
        }
      ]
    },
    {
      "cell_type": "markdown",
      "source": [
        "Check if a string is a valid email address."
      ],
      "metadata": {
        "id": "yIdQkXX-sKij"
      }
    },
    {
      "cell_type": "code",
      "source": [
        "!pip install email_validator\n",
        "\n"
      ],
      "metadata": {
        "colab": {
          "base_uri": "https://localhost:8080/"
        },
        "id": "7rA2p15drvPP",
        "outputId": "8991c893-148d-4717-d380-4a99ce0afc9b"
      },
      "execution_count": null,
      "outputs": [
        {
          "output_type": "stream",
          "name": "stdout",
          "text": [
            "Collecting email_validator\n",
            "  Downloading email_validator-2.0.0.post2-py3-none-any.whl (31 kB)\n",
            "Collecting dnspython>=2.0.0 (from email_validator)\n",
            "  Downloading dnspython-2.4.2-py3-none-any.whl (300 kB)\n",
            "\u001b[2K     \u001b[90m━━━━━━━━━━━━━━━━━━━━━━━━━━━━━━━━━━━━━━━\u001b[0m \u001b[32m300.4/300.4 kB\u001b[0m \u001b[31m7.9 MB/s\u001b[0m eta \u001b[36m0:00:00\u001b[0m\n",
            "\u001b[?25hRequirement already satisfied: idna>=2.0.0 in /usr/local/lib/python3.10/dist-packages (from email_validator) (3.4)\n",
            "Installing collected packages: dnspython, email_validator\n",
            "Successfully installed dnspython-2.4.2 email_validator-2.0.0.post2\n"
          ]
        }
      ]
    },
    {
      "cell_type": "code",
      "source": [
        "from email_validator import validate_email, EmailNotValidError\n",
        "\n",
        "def check(email):\n",
        "\ttry:\n",
        "\t\tv = validate_email(email)\n",
        "\n",
        "\t\temail = v[\"email\"]\n",
        "\t\tprint(\"True\")\n",
        "\texcept EmailNotValidError as e:\n",
        "\t\tprint(str(e))\n",
        "\n",
        "check(\"my.ownsite@our-earth.org\")\n",
        "\n",
        "check(\"ankitrai326.com\")"
      ],
      "metadata": {
        "colab": {
          "base_uri": "https://localhost:8080/"
        },
        "id": "Pk9A8txntIgN",
        "outputId": "0b0cf73c-1fdc-4685-dbb6-359e8a76e548"
      },
      "execution_count": null,
      "outputs": [
        {
          "output_type": "stream",
          "name": "stdout",
          "text": [
            "True\n",
            "The email address is not valid. It must have exactly one @-sign.\n"
          ]
        },
        {
          "output_type": "stream",
          "name": "stderr",
          "text": [
            "<ipython-input-11-084c1d3fa198>:7: DeprecationWarning: dict-like access to the return value of validate_email is deprecated and may not be supported in the future.\n",
            "  email = v[\"email\"]\n"
          ]
        }
      ]
    },
    {
      "cell_type": "markdown",
      "source": [
        "Extract the username from an email address string."
      ],
      "metadata": {
        "id": "C_PGVuUmyM7Z"
      }
    },
    {
      "cell_type": "code",
      "source": [
        "email=input(\"Enter the email:\")\n",
        "l=list(email.split(\"@\"))\n",
        "print(\"Username is:\",l[0])"
      ],
      "metadata": {
        "colab": {
          "base_uri": "https://localhost:8080/"
        },
        "id": "U25_P0gpxYGj",
        "outputId": "4a355f9d-591e-4567-aa53-00735381820f"
      },
      "execution_count": null,
      "outputs": [
        {
          "output_type": "stream",
          "name": "stdout",
          "text": [
            "Enter the email:adityanu04ss@gmail.com\n",
            "Username is: adityanu04ss\n"
          ]
        }
      ]
    },
    {
      "cell_type": "markdown",
      "source": [
        "Extract the domain name from an email address string."
      ],
      "metadata": {
        "id": "1vQXuhNr2uDA"
      }
    },
    {
      "cell_type": "code",
      "source": [
        "email=input(\"Enter the email:\")\n",
        "l=list(email.split(\"@\"))\n",
        "print(\"Username is:\",l[1])"
      ],
      "metadata": {
        "colab": {
          "base_uri": "https://localhost:8080/"
        },
        "id": "_fdX2WSQzI9j",
        "outputId": "b1999a25-9ab2-4c1a-b984-9f36d5e03ccb"
      },
      "execution_count": null,
      "outputs": [
        {
          "output_type": "stream",
          "name": "stdout",
          "text": [
            "Enter the email:adityaanu04ss@gmail.com\n",
            "Username is: gmail.com\n"
          ]
        }
      ]
    },
    {
      "cell_type": "markdown",
      "source": [
        "Replace multiple spaces in a string with a single space."
      ],
      "metadata": {
        "id": "XBYeo-8v2931"
      }
    },
    {
      "cell_type": "code",
      "source": [
        "import re\n",
        "\n",
        "my_str = input(\"Enter the string:\")\n",
        "\n",
        "result = re.sub(r'\\s+', ' ', my_str)\n",
        "print(repr(result))\n"
      ],
      "metadata": {
        "colab": {
          "base_uri": "https://localhost:8080/"
        },
        "id": "DHNmzA0V1zmQ",
        "outputId": "646f38f6-46c3-4b2a-cbc0-d2742e7643df"
      },
      "execution_count": null,
      "outputs": [
        {
          "output_type": "stream",
          "name": "stdout",
          "text": [
            "Enter the string:aditya   singh  is a godd\n",
            "'aditya singh is a godd'\n"
          ]
        }
      ]
    },
    {
      "cell_type": "markdown",
      "source": [
        "Check if a string is a valid URL."
      ],
      "metadata": {
        "id": "XdepLjVPTaig"
      }
    },
    {
      "cell_type": "code",
      "source": [
        "!pip install validators\n"
      ],
      "metadata": {
        "id": "RSBxiKHJ3jDq",
        "colab": {
          "base_uri": "https://localhost:8080/"
        },
        "outputId": "5476900c-bfc0-45e8-ddbb-07f276a9ac4e"
      },
      "execution_count": null,
      "outputs": [
        {
          "output_type": "stream",
          "name": "stdout",
          "text": [
            "Collecting validators\n",
            "  Downloading validators-0.22.0-py3-none-any.whl (26 kB)\n",
            "Installing collected packages: validators\n",
            "Successfully installed validators-0.22.0\n"
          ]
        }
      ]
    },
    {
      "cell_type": "code",
      "source": [
        "import validators\n",
        "valid=validators.url(input(\"enter the url:\"))\n",
        "if valid==True:\n",
        "    print(\"Url is valid\")\n",
        "else:\n",
        "    print(\"Invalid url\")"
      ],
      "metadata": {
        "colab": {
          "base_uri": "https://localhost:8080/"
        },
        "id": "8t958klTTQO_",
        "outputId": "90a9253d-252d-4b90-8763-7a202db31d2c"
      },
      "execution_count": null,
      "outputs": [
        {
          "output_type": "stream",
          "name": "stdout",
          "text": [
            "enter the url:https://colab.research.google.com/drive/1NAn3PHhDgnU6nS_ts9_0bMYHcH0DundE#scrollTo=DeguLT_vTeCR\n",
            "Url is valid\n"
          ]
        }
      ]
    },
    {
      "cell_type": "markdown",
      "source": [
        "Extract the protocol (http or https) from a URL string."
      ],
      "metadata": {
        "id": "NbMONZxeT3kV"
      }
    },
    {
      "cell_type": "code",
      "source": [
        "s=input(\"Enter the url:\")\n",
        "l=list(s.split(\"/\"))\n",
        "print(l[0])"
      ],
      "metadata": {
        "colab": {
          "base_uri": "https://localhost:8080/"
        },
        "id": "DeguLT_vTeCR",
        "outputId": "98957c6f-436a-4ce4-adbe-d7b3f2fe60d3"
      },
      "execution_count": null,
      "outputs": [
        {
          "output_type": "stream",
          "name": "stdout",
          "text": [
            "Enter the url:https://colab.research.google.com/drive/1NAn3PHhDgnU6nS_ts9_0bMYHcH\n",
            "https:\n"
          ]
        }
      ]
    },
    {
      "cell_type": "markdown",
      "source": [
        "Find the frequency of each character in a string."
      ],
      "metadata": {
        "id": "ItVA8zseUbuy"
      }
    },
    {
      "cell_type": "code",
      "source": [
        "s=input(\"Enter the string:\")\n",
        "l=list(s)\n",
        "m={}\n",
        "for i in set(l):\n",
        "  m[i]=l.count(i)\n",
        "print(m.items())\n",
        "\n",
        "\n"
      ],
      "metadata": {
        "colab": {
          "base_uri": "https://localhost:8080/"
        },
        "id": "de5ThiA-UCXI",
        "outputId": "bc4aac44-6968-42be-dbdc-b376e86a52fa"
      },
      "execution_count": null,
      "outputs": [
        {
          "output_type": "stream",
          "name": "stdout",
          "text": [
            "Enter the string:aditya singh is a good boy\n",
            "dict_items([('a', 3), ('i', 3), ('h', 1), ('o', 3), ('b', 1), ('y', 2), (' ', 5), ('t', 1), ('g', 2), ('s', 2), ('n', 1), ('d', 2)])\n"
          ]
        }
      ]
    },
    {
      "cell_type": "markdown",
      "source": [
        "Remove all punctuation from a string."
      ],
      "metadata": {
        "id": "G9komjjJYUnr"
      }
    },
    {
      "cell_type": "code",
      "source": [
        "import string\n",
        "s=input(\"Enter the string:\")\n",
        "for i in s:\n",
        "  if i in string.punctuation:\n",
        "    s=s.replace(i,\"\")\n",
        "print(s)\n"
      ],
      "metadata": {
        "colab": {
          "base_uri": "https://localhost:8080/"
        },
        "id": "uQxt68KBW3j4",
        "outputId": "7fd45e4a-2217-4524-db49-111442c3251a"
      },
      "execution_count": null,
      "outputs": [
        {
          "output_type": "stream",
          "name": "stdout",
          "text": [
            "Enter the string:aditya@%singh\n",
            "adityasingh\n"
          ]
        }
      ]
    },
    {
      "cell_type": "markdown",
      "source": [
        "Check if a string contains only digits."
      ],
      "metadata": {
        "id": "yFgh5MhYc6bL"
      }
    },
    {
      "cell_type": "code",
      "source": [
        "s=input(\"Enter the string:\")\n",
        "if s.isdigit():\n",
        "  print(\"True\")\n",
        "else:\n",
        "  print(\"False\")"
      ],
      "metadata": {
        "colab": {
          "base_uri": "https://localhost:8080/"
        },
        "id": "CIrKGsMCY-qD",
        "outputId": "74fa8eb0-6c1c-4086-efba-fce348f460d2"
      },
      "execution_count": null,
      "outputs": [
        {
          "output_type": "stream",
          "name": "stdout",
          "text": [
            "Enter the string:567\n",
            "True\n"
          ]
        }
      ]
    },
    {
      "cell_type": "markdown",
      "source": [
        "Check if a string contains only alphabets."
      ],
      "metadata": {
        "id": "8E9EvuDmdS-r"
      }
    },
    {
      "cell_type": "code",
      "source": [
        "s=input(\"Enter the string:\")\n",
        "if s.isalpha():\n",
        "  print(\"True\")\n",
        "else:\n",
        "  print(\"False\")"
      ],
      "metadata": {
        "colab": {
          "base_uri": "https://localhost:8080/"
        },
        "id": "licjjfkqdH8l",
        "outputId": "15fe1129-cd3b-475d-c4d2-cf7f76207378"
      },
      "execution_count": null,
      "outputs": [
        {
          "output_type": "stream",
          "name": "stdout",
          "text": [
            "Enter the string:asdf\n",
            "True\n"
          ]
        }
      ]
    },
    {
      "cell_type": "markdown",
      "source": [
        "Convert a string to a list of characters."
      ],
      "metadata": {
        "id": "YBbitVL9dp8e"
      }
    },
    {
      "cell_type": "code",
      "source": [
        "s=input(\"Enter the string:\")\n",
        "print(list(s))"
      ],
      "metadata": {
        "colab": {
          "base_uri": "https://localhost:8080/"
        },
        "id": "XxjkV5cHdfSV",
        "outputId": "b6068166-8f82-40c4-cd71-433e9ba5d45d"
      },
      "execution_count": null,
      "outputs": [
        {
          "output_type": "stream",
          "name": "stdout",
          "text": [
            "Enter the string:aditya singh\n",
            "['a', 'd', 'i', 't', 'y', 'a', ' ', 's', 'i', 'n', 'g', 'h']\n"
          ]
        }
      ]
    },
    {
      "cell_type": "markdown",
      "source": [
        "Check if two strings are anagrams."
      ],
      "metadata": {
        "id": "gc194cD_d3No"
      }
    },
    {
      "cell_type": "code",
      "source": [
        "s1=input(\"String1:\")\n",
        "s2=input(\"String2:\")\n",
        "if len(s1)==len(s2) and sorted(s1)==sorted(s2):\n",
        "  print(\"Strings are anagram\")\n",
        "else:\n",
        "  print(\"Strings are not anagram\")"
      ],
      "metadata": {
        "colab": {
          "base_uri": "https://localhost:8080/"
        },
        "id": "j2CxoqASdyu5",
        "outputId": "353ba04b-311d-44b4-ce4d-6abb17342530"
      },
      "execution_count": null,
      "outputs": [
        {
          "output_type": "stream",
          "name": "stdout",
          "text": [
            "String1:acccb\n",
            "String2:abbcc\n",
            "Strings are not anagram\n"
          ]
        }
      ]
    },
    {
      "cell_type": "markdown",
      "source": [
        "Encode a string using a Caesar cipher."
      ],
      "metadata": {
        "id": "09l0vIJJeuRM"
      }
    },
    {
      "cell_type": "code",
      "source": [
        "s=input(\"Entrr the string:\")\n",
        "shift=int(input(\"Enter the number of shift:\"))\n",
        "result=\"\"\n",
        "\n",
        "for i in range(len(s)):\n",
        "  char=s[i]\n",
        "\n",
        "  if (char.isupper()):\n",
        "    if ord(char)+shift>90:\n",
        "      ascii=((ord(char)+shift)-90)+64\n",
        "      result+=chr(ascii)\n",
        "\n",
        "    else:\n",
        "      ascii=ord(char)+shift\n",
        "      result+=chr(ascii)\n",
        "\n",
        "  else:\n",
        "    if ord(char)+shift>122:\n",
        "      ascii=((ord(char)+shift)-122)+96\n",
        "      result+=chr(ascii)\n",
        "\n",
        "    else:\n",
        "      ascii=ord(char)+shift\n",
        "      result+=chr(ascii)\n",
        "\n",
        "print(result)"
      ],
      "metadata": {
        "id": "xDxTwpduegQ9",
        "colab": {
          "base_uri": "https://localhost:8080/"
        },
        "outputId": "0fc02917-3849-4c74-a3e9-8765fe97ab23"
      },
      "execution_count": 1,
      "outputs": [
        {
          "output_type": "stream",
          "name": "stdout",
          "text": [
            "Entrr the string:aditya\n",
            "Enter the number of shift:5\n",
            "finydf\n"
          ]
        }
      ]
    },
    {
      "cell_type": "markdown",
      "source": [
        "Decode a Caesar cipher encoded string."
      ],
      "metadata": {
        "id": "4c4RQiz0b7ij"
      }
    },
    {
      "cell_type": "code",
      "source": [
        "s = input(\"Enter the string to decode:\")\n",
        "shift = int(input(\"Enter the shifted value:\"))\n",
        "result = \"\"\n",
        "\n",
        "for char in s:\n",
        "    if char.isupper():\n",
        "        ascii = ord(char) - shift\n",
        "        if ascii < 65:\n",
        "            ascii += 26\n",
        "        result += chr(ascii)\n",
        "    elif char.islower():\n",
        "        ascii = ord(char) - shift\n",
        "        if ascii < 97:\n",
        "            ascii += 26\n",
        "        result += chr(ascii)\n",
        "    else:\n",
        "        result += char\n",
        "\n",
        "print(\"Decoded string is:\", result)\n",
        "\n"
      ],
      "metadata": {
        "colab": {
          "base_uri": "https://localhost:8080/"
        },
        "id": "wkrDz9Hxbonl",
        "outputId": "4c135825-7b04-41a3-96e7-27fcda218faa"
      },
      "execution_count": 3,
      "outputs": [
        {
          "output_type": "stream",
          "name": "stdout",
          "text": [
            "Enter the string to decode:finydf\n",
            "Enter the shifted value:5\n",
            "Decoded string is: aditya\n"
          ]
        }
      ]
    },
    {
      "cell_type": "markdown",
      "source": [
        "Find the most frequent word in a string."
      ],
      "metadata": {
        "id": "qu5Ebaurg_mA"
      }
    },
    {
      "cell_type": "code",
      "source": [
        "s=input(\"Enter the string:\")\n",
        "m={}\n",
        "for i in set(list(s)):\n",
        "  m[i]=s.count(i)\n",
        "\n",
        "for key, value in m.items():\n",
        "  if value==max(list(m.values())):\n",
        "    print(\"Most frequent word in the string is:\",key)\n",
        "\n",
        "\n"
      ],
      "metadata": {
        "colab": {
          "base_uri": "https://localhost:8080/"
        },
        "id": "7n9mcXAwg8yX",
        "outputId": "5d2ee5d3-af6d-406a-9cd1-92e8d2a4017f"
      },
      "execution_count": 5,
      "outputs": [
        {
          "output_type": "stream",
          "name": "stdout",
          "text": [
            "Enter the string:aditya\n",
            "Most frequent word in the string is: a\n"
          ]
        }
      ]
    },
    {
      "cell_type": "markdown",
      "source": [
        "Find all unique words in a string."
      ],
      "metadata": {
        "id": "2i44z6BSlH4D"
      }
    },
    {
      "cell_type": "code",
      "source": [
        "s=input(\"Enter the string:\")\n",
        "unique=set(s.split())\n",
        "\n",
        "print(\"All the unique words in the string are:\", list(unique))"
      ],
      "metadata": {
        "colab": {
          "base_uri": "https://localhost:8080/"
        },
        "id": "_OG9yICkgh2B",
        "outputId": "ddbc0b5f-ba1f-48f2-a687-4ef8cb16c1a8"
      },
      "execution_count": 6,
      "outputs": [
        {
          "output_type": "stream",
          "name": "stdout",
          "text": [
            "Enter the string:Aditya is good boy boy Aditya\n",
            "All the unique words in the string are: ['Aditya', 'good', 'boy', 'is']\n"
          ]
        }
      ]
    },
    {
      "cell_type": "markdown",
      "source": [
        "Count the number of syllables in a string."
      ],
      "metadata": {
        "id": "1xwC1RGilzMR"
      }
    },
    {
      "cell_type": "code",
      "source": [
        "word = input(\"Enter a word: \")\n",
        "word = word.lower()\n",
        "print(word)\n",
        "\n",
        "\n",
        "syllables = 0\n",
        "for i in range(len(word)) :\n",
        "\n",
        "\n",
        "   if i == 0 and word[i] in \"aeiouy\" :\n",
        "      syllables = syllables + 1\n",
        "\n",
        "\n",
        "   elif word[i - 1] not in \"aeiouy\" :\n",
        "\n",
        "\n",
        "      if i < len(word) - 1 and word[i] in \"aeiouy\" :\n",
        "         syllables = syllables + 1\n",
        "\n",
        "\n",
        "      elif i == len(word) - 1 and word[i] in \"aiouy\" :\n",
        "         syllables = syllables + 1\n",
        "\n",
        "\n",
        "if len(word) > 0 and syllables == 0 :\n",
        "   syllables == 0\n",
        "   syllables = 1\n",
        "\n",
        "\n",
        "\n",
        "print(\"The word contains\", syllables, \"syllable(s)\")"
      ],
      "metadata": {
        "colab": {
          "base_uri": "https://localhost:8080/"
        },
        "id": "MfLdEycHlrPi",
        "outputId": "cac5da40-2b0e-4a72-fd4e-1cf11c35c539"
      },
      "execution_count": 7,
      "outputs": [
        {
          "output_type": "stream",
          "name": "stdout",
          "text": [
            "Enter a word: Aditya singh is a good boy\n",
            "aditya singh is a good boy\n",
            "The word contains 8 syllable(s)\n"
          ]
        }
      ]
    },
    {
      "cell_type": "markdown",
      "source": [
        "Check if a string contains any special characters."
      ],
      "metadata": {
        "id": "M5Qp5arHnp1_"
      }
    },
    {
      "cell_type": "code",
      "source": [
        "def has_special_char(s):\n",
        "    for c in s:\n",
        "        if not (c.isalpha() or c.isdigit() or c == ' '):\n",
        "            return True\n",
        "    return False\n",
        "\n",
        "s=input(\"Enter the String:\")\n",
        "if has_special_char(s)==True:\n",
        "  print(\"The string has special Character\")\n",
        "else:\n",
        "  print(\"The string do not have special character\")\n"
      ],
      "metadata": {
        "colab": {
          "base_uri": "https://localhost:8080/"
        },
        "id": "xwRQpLVpnW01",
        "outputId": "72c98ca9-ca1a-4d13-9ee1-cd472fc9ee83"
      },
      "execution_count": 9,
      "outputs": [
        {
          "output_type": "stream",
          "name": "stdout",
          "text": [
            "Enter the String:aditya singh@##\n",
            "The string has special Character\n"
          ]
        }
      ]
    },
    {
      "cell_type": "markdown",
      "source": [
        "Remove the nth word from a string."
      ],
      "metadata": {
        "id": "KXtEjtd6oskX"
      }
    },
    {
      "cell_type": "code",
      "source": [
        "s=input(\"Enter the string:\")\n",
        "n=int(input(\"Enter the position of the word to remove:\"))\n",
        "result=\" \"\n",
        "l=list(s.split())\n",
        "l.pop(n-1)\n",
        "result=result.join(l)\n",
        "\n",
        "print(result)"
      ],
      "metadata": {
        "colab": {
          "base_uri": "https://localhost:8080/"
        },
        "id": "3DM16or8of3Q",
        "outputId": "73d24643-1855-48d5-a767-ba09ee4c73df"
      },
      "execution_count": 15,
      "outputs": [
        {
          "output_type": "stream",
          "name": "stdout",
          "text": [
            "Enter the string:Aditya singh is a bgood boy\n",
            "Enter the position of the word to remove:4\n",
            "Aditya singh is bgood boy\n"
          ]
        }
      ]
    },
    {
      "cell_type": "markdown",
      "source": [
        "Insert a word at the nth position in a string."
      ],
      "metadata": {
        "id": "flWxYFH6rgni"
      }
    },
    {
      "cell_type": "code",
      "source": [
        "s=input(\"Enter the string:\")\n",
        "n=int(input(\"Enter the position where you want to insert:\"))\n",
        "sub=input(\"Enter the word to insert\")\n",
        "result=\" \"\n",
        "l=list(s.split())\n",
        "l.insert(n-1,sub)\n",
        "result=result.join(l)\n",
        "\n",
        "print(result)"
      ],
      "metadata": {
        "colab": {
          "base_uri": "https://localhost:8080/"
        },
        "id": "wm2-sZxhpZJK",
        "outputId": "df486338-b18b-40e7-94fe-cce57f75e30a"
      },
      "execution_count": 16,
      "outputs": [
        {
          "output_type": "stream",
          "name": "stdout",
          "text": [
            "Enter the string:Aditya is good boy\n",
            "Enter the position where you want to insert:3\n",
            "Enter the word to inserta\n",
            "Aditya is a good boy\n"
          ]
        }
      ]
    },
    {
      "cell_type": "markdown",
      "source": [
        "Convert a CSV string to a list of lists."
      ],
      "metadata": {
        "id": "4FDEq2tKsexQ"
      }
    },
    {
      "cell_type": "code",
      "source": [
        "# Example CSV string\n",
        "csv_string = \"\"\"Name,Age,Location\n",
        "Alice,25,New York\n",
        "Bob,30,Los Angeles\n",
        "Charlie,22,Chicago\n",
        "\"\"\"\n",
        "\n",
        "\n",
        "csv_lines = csv_string.strip().split('\\n')\n",
        "csv_data = [line.split(',') for line in csv_lines]\n",
        "\n",
        "\n",
        "print(csv_data)\n"
      ],
      "metadata": {
        "colab": {
          "base_uri": "https://localhost:8080/"
        },
        "id": "EUITfwdmsVkH",
        "outputId": "1eee9240-6537-418c-9ff0-217d61f5e40b"
      },
      "execution_count": 17,
      "outputs": [
        {
          "output_type": "stream",
          "name": "stdout",
          "text": [
            "[['Name', 'Age', 'Location'], ['Alice', '25', 'New York'], ['Bob', '30', 'Los Angeles'], ['Charlie', '22', 'Chicago']]\n"
          ]
        }
      ]
    },
    {
      "cell_type": "code",
      "source": [],
      "metadata": {
        "id": "e61HhyzEugQ9"
      },
      "execution_count": null,
      "outputs": []
    }
  ]
}