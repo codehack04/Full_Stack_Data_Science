{
 "cells": [
  {
   "cell_type": "markdown",
   "id": "67d5a29a",
   "metadata": {},
   "source": [
    "Create a tuple with integers from 1 to 5"
   ]
  },
  {
   "cell_type": "code",
   "execution_count": 2,
   "id": "df7de2eb",
   "metadata": {
    "scrolled": true
   },
   "outputs": [
    {
     "data": {
      "text/plain": [
       "(1, 2, 3, 4, 5)"
      ]
     },
     "execution_count": 2,
     "metadata": {},
     "output_type": "execute_result"
    }
   ],
   "source": [
    "tuple((range(1,6)))"
   ]
  },
  {
   "cell_type": "markdown",
   "id": "59e83634",
   "metadata": {},
   "source": [
    "Access the third element of a Tuple"
   ]
  },
  {
   "cell_type": "code",
   "execution_count": 3,
   "id": "025ac078",
   "metadata": {},
   "outputs": [
    {
     "name": "stdout",
     "output_type": "stream",
     "text": [
      "1 2 3 4 5\n",
      "3\n"
     ]
    }
   ],
   "source": [
    "t=tuple(map(int, input().split()))\n",
    "print(t[2])"
   ]
  },
  {
   "cell_type": "markdown",
   "id": "e2b47a81",
   "metadata": {},
   "source": [
    "Find the length of the tuple without using the len() function."
   ]
  },
  {
   "cell_type": "code",
   "execution_count": 4,
   "id": "95516982",
   "metadata": {},
   "outputs": [
    {
     "name": "stdout",
     "output_type": "stream",
     "text": [
      "1 2 3 4 5\n",
      "Length of the tuple is: 5\n"
     ]
    }
   ],
   "source": [
    "t=tuple(map(int, input().split()))\n",
    "c=0\n",
    "for i in t:\n",
    "    c=c+1\n",
    "    \n",
    "print(\"Length of the tuple is:\",c)"
   ]
  },
  {
   "cell_type": "markdown",
   "id": "fcf721ae",
   "metadata": {},
   "source": [
    "Count the occurence of an element in the tuple"
   ]
  },
  {
   "cell_type": "code",
   "execution_count": 5,
   "id": "14d295c4",
   "metadata": {},
   "outputs": [
    {
     "name": "stdout",
     "output_type": "stream",
     "text": [
      "1 2 2 3 4 5 2 5 6\n",
      "Enter the element to count:2\n",
      "3\n"
     ]
    }
   ],
   "source": [
    "t=tuple(map(int, input().split()))\n",
    "e=int(input(\"Enter the element to count:\"))\n",
    "print(t.count(e))"
   ]
  },
  {
   "cell_type": "markdown",
   "id": "5dc6b99a",
   "metadata": {},
   "source": [
    "Find the index of the first ocuurence of an element in a tuple"
   ]
  },
  {
   "cell_type": "code",
   "execution_count": 6,
   "id": "9942e4bf",
   "metadata": {},
   "outputs": [
    {
     "name": "stdout",
     "output_type": "stream",
     "text": [
      "1 2 3 4 5 2\n",
      "Enter the element to find its first occurence:2\n",
      "1\n"
     ]
    }
   ],
   "source": [
    "t=tuple(map(int, input().split()))\n",
    "e=int(input(\"Enter the element to find its first occurence:\"))\n",
    "\n",
    "for i in range(len(t)):\n",
    "    if t[i]==e:\n",
    "        print(i)\n",
    "        break\n",
    "        "
   ]
  },
  {
   "cell_type": "markdown",
   "id": "0cab5bfe",
   "metadata": {},
   "source": [
    "Check if an element exists in a tuple"
   ]
  },
  {
   "cell_type": "code",
   "execution_count": 8,
   "id": "dab5fcad",
   "metadata": {},
   "outputs": [
    {
     "name": "stdout",
     "output_type": "stream",
     "text": [
      "1 2 2 3 4 5 5\n",
      "Enter the element to check:2\n",
      "The number exists in the tuple\n"
     ]
    }
   ],
   "source": [
    "t=tuple(map(int, input().split()))\n",
    "e=int(input(\"Enter the element to check:\"))\n",
    "c=0\n",
    "for i in t:\n",
    "    if e==i:\n",
    "        c=c+1\n",
    "        \n",
    "if c==0:\n",
    "    print(\"The number do not exists in the tuple\")\n",
    "else:\n",
    "    print(\"The number exists in the tuple\")\n",
    "        \n",
    "        "
   ]
  },
  {
   "cell_type": "markdown",
   "id": "34dc2da4",
   "metadata": {},
   "source": [
    "Convert a tuple into a list"
   ]
  },
  {
   "cell_type": "code",
   "execution_count": 1,
   "id": "78e2efa3",
   "metadata": {},
   "outputs": [
    {
     "name": "stdout",
     "output_type": "stream",
     "text": [
      "1 2 3 4 5\n",
      "[1, 2, 3, 4, 5]\n"
     ]
    }
   ],
   "source": [
    "t=tuple(map(int, input().split()))\n",
    "print(list(t))"
   ]
  },
  {
   "cell_type": "markdown",
   "id": "90b22c69",
   "metadata": {},
   "source": [
    "Convert a list into a tuple"
   ]
  },
  {
   "cell_type": "code",
   "execution_count": 2,
   "id": "a35bd39d",
   "metadata": {},
   "outputs": [
    {
     "name": "stdout",
     "output_type": "stream",
     "text": [
      "1 2 3 4 5\n",
      "(1, 2, 3, 4, 5)\n"
     ]
    }
   ],
   "source": [
    "t=list(map(int, input().split()))\n",
    "print(tuple(t))"
   ]
  },
  {
   "cell_type": "markdown",
   "id": "883b42eb",
   "metadata": {},
   "source": [
    "Unpack the elements of a tuple into variables"
   ]
  },
  {
   "cell_type": "code",
   "execution_count": 3,
   "id": "c4110f2e",
   "metadata": {},
   "outputs": [
    {
     "ename": "SyntaxError",
     "evalue": "cannot assign to expression here. Maybe you meant '==' instead of '='? (3201940591.py, line 3)",
     "output_type": "error",
     "traceback": [
      "\u001b[1;36m  Cell \u001b[1;32mIn[3], line 3\u001b[1;36m\u001b[0m\n\u001b[1;33m    a+str(i)=t[i]\u001b[0m\n\u001b[1;37m    ^\u001b[0m\n\u001b[1;31mSyntaxError\u001b[0m\u001b[1;31m:\u001b[0m cannot assign to expression here. Maybe you meant '==' instead of '='?\n"
     ]
    }
   ],
   "source": [
    "t=tuple(map(int, input().split()))\n",
    "for i in range(len(t)):\n",
    "    a+str(i)=t[i]\n",
    "    print(a+str(i))"
   ]
  },
  {
   "cell_type": "markdown",
   "id": "c9a65613",
   "metadata": {},
   "source": [
    "Create a tuple of even numbers from 1 to 10"
   ]
  },
  {
   "cell_type": "code",
   "execution_count": 6,
   "id": "8dc83689",
   "metadata": {},
   "outputs": [
    {
     "name": "stdout",
     "output_type": "stream",
     "text": [
      "(2, 4, 6, 8, 10)\n"
     ]
    }
   ],
   "source": [
    "l=[i for i in range(1,11) if i%2==0]\n",
    "print(tuple(l))"
   ]
  },
  {
   "cell_type": "markdown",
   "id": "a6c2b005",
   "metadata": {},
   "source": [
    "Create a tuple of odd numbers from 1 to 10"
   ]
  },
  {
   "cell_type": "code",
   "execution_count": 10,
   "id": "33fbb512",
   "metadata": {},
   "outputs": [
    {
     "name": "stdout",
     "output_type": "stream",
     "text": [
      "(1, 3, 5, 7, 9)\n"
     ]
    },
    {
     "data": {
      "text/plain": [
       "generator"
      ]
     },
     "execution_count": 10,
     "metadata": {},
     "output_type": "execute_result"
    }
   ],
   "source": [
    "t=(i for i in range(1,11) if i%2==1)\n",
    "print(tuple(t))\n"
   ]
  },
  {
   "cell_type": "markdown",
   "id": "20328a05",
   "metadata": {},
   "source": [
    "Concatenate two tuples"
   ]
  },
  {
   "cell_type": "code",
   "execution_count": 11,
   "id": "81c90987",
   "metadata": {},
   "outputs": [
    {
     "name": "stdout",
     "output_type": "stream",
     "text": [
      "1 2 3 4\n",
      "5 6 7 8\n",
      "(1, 2, 3, 4, 5, 6, 7, 8)\n"
     ]
    }
   ],
   "source": [
    "t1=tuple(map(int, input().split()))\n",
    "t2=tuple(map(int, input().split()))\n",
    "print(t1+t2)"
   ]
  },
  {
   "cell_type": "markdown",
   "id": "02ba8afb",
   "metadata": {},
   "source": [
    "Repeat a Tuple 3 Times"
   ]
  },
  {
   "cell_type": "code",
   "execution_count": 13,
   "id": "6b109d05",
   "metadata": {},
   "outputs": [
    {
     "name": "stdout",
     "output_type": "stream",
     "text": [
      "1 2 3 4\n",
      "(1, 2, 3, 4, 1, 2, 3, 4, 1, 2, 3, 4)\n"
     ]
    }
   ],
   "source": [
    "t1=tuple(map(int, input().split()))\n",
    "print(t1*3)"
   ]
  },
  {
   "cell_type": "markdown",
   "id": "5297182e",
   "metadata": {},
   "source": [
    "Check if tuple is empty"
   ]
  },
  {
   "cell_type": "code",
   "execution_count": 14,
   "id": "b0077f88",
   "metadata": {},
   "outputs": [
    {
     "name": "stdout",
     "output_type": "stream",
     "text": [
      "1 2 3 4\n",
      "Tuple is not empty\n"
     ]
    }
   ],
   "source": [
    "t1=tuple(map(int, input().split()))\n",
    "if len(t1)==0:\n",
    "    print(\"tuple is empty\")\n",
    "else:\n",
    "    print(\"Tuple is not empty\")"
   ]
  },
  {
   "cell_type": "markdown",
   "id": "0bc7bb5e",
   "metadata": {},
   "source": [
    "Create a nested tuple"
   ]
  },
  {
   "cell_type": "code",
   "execution_count": 24,
   "id": "e59d74af",
   "metadata": {},
   "outputs": [
    {
     "name": "stdout",
     "output_type": "stream",
     "text": [
      "((1, 2, 3, 4), (1, 2, 3, 4), (1, 2, 3, 4), (1, 2, 3, 4), (1, 2, 3, 4))\n"
     ]
    }
   ],
   "source": [
    "t=[]\n",
    "for i in range(5):\n",
    "    \n",
    "    \n",
    "    t.append(tuple(range(1,5)))\n",
    "    \n",
    "print(tuple(t))"
   ]
  },
  {
   "cell_type": "markdown",
   "id": "9cd64ca0",
   "metadata": {},
   "source": [
    "Access the first element of a nested tuple"
   ]
  },
  {
   "cell_type": "code",
   "execution_count": 26,
   "id": "b2beeea5",
   "metadata": {},
   "outputs": [
    {
     "data": {
      "text/plain": [
       "(1, 2, 3, 4)"
      ]
     },
     "execution_count": 26,
     "metadata": {},
     "output_type": "execute_result"
    }
   ],
   "source": [
    "t[0]"
   ]
  },
  {
   "cell_type": "markdown",
   "id": "21614b77",
   "metadata": {},
   "source": [
    "Create a tuple with single element"
   ]
  },
  {
   "cell_type": "code",
   "execution_count": 29,
   "id": "64467e25",
   "metadata": {},
   "outputs": [
    {
     "data": {
      "text/plain": [
       "int"
      ]
     },
     "execution_count": 29,
     "metadata": {},
     "output_type": "execute_result"
    }
   ],
   "source": [
    "t=(3,)\n",
    "type(t)"
   ]
  },
  {
   "cell_type": "markdown",
   "id": "4a05b20d",
   "metadata": {},
   "source": [
    "Compare Two tuple"
   ]
  },
  {
   "cell_type": "code",
   "execution_count": null,
   "id": "c3e7b97e",
   "metadata": {},
   "outputs": [],
   "source": []
  },
  {
   "cell_type": "markdown",
   "id": "be7be49f",
   "metadata": {},
   "source": [
    "Delete a Tuple"
   ]
  },
  {
   "cell_type": "code",
   "execution_count": 30,
   "id": "fdab69a3",
   "metadata": {},
   "outputs": [
    {
     "name": "stdout",
     "output_type": "stream",
     "text": [
      "(1, 2, 3, 4)\n"
     ]
    },
    {
     "ename": "NameError",
     "evalue": "name 't' is not defined",
     "output_type": "error",
     "traceback": [
      "\u001b[1;31m---------------------------------------------------------------------------\u001b[0m",
      "\u001b[1;31mNameError\u001b[0m                                 Traceback (most recent call last)",
      "Cell \u001b[1;32mIn[30], line 4\u001b[0m\n\u001b[0;32m      2\u001b[0m \u001b[38;5;28mprint\u001b[39m(t)\n\u001b[0;32m      3\u001b[0m \u001b[38;5;28;01mdel\u001b[39;00m(t)\n\u001b[1;32m----> 4\u001b[0m \u001b[38;5;28mprint\u001b[39m(t)\n",
      "\u001b[1;31mNameError\u001b[0m: name 't' is not defined"
     ]
    }
   ],
   "source": [
    "t=(1,2,3,4)\n",
    "print(t)\n",
    "del(t)\n",
    "print(t)"
   ]
  },
  {
   "cell_type": "markdown",
   "id": "f4f2d7b2",
   "metadata": {},
   "source": [
    "Slice a tuple"
   ]
  },
  {
   "cell_type": "code",
   "execution_count": 31,
   "id": "4664fdb9",
   "metadata": {},
   "outputs": [
    {
     "name": "stdout",
     "output_type": "stream",
     "text": [
      "1 2 3 4 "
     ]
    }
   ],
   "source": [
    "t=(1,2,3,4)\n",
    "for i in t:\n",
    "    print(i, end=\" \")"
   ]
  },
  {
   "cell_type": "markdown",
   "id": "4938a7c5",
   "metadata": {},
   "source": [
    "Find the maximum value ina tuple"
   ]
  },
  {
   "cell_type": "code",
   "execution_count": 32,
   "id": "a62d7a9e",
   "metadata": {},
   "outputs": [
    {
     "name": "stdout",
     "output_type": "stream",
     "text": [
      "4\n"
     ]
    }
   ],
   "source": [
    "t=(1,2,3,4)\n",
    "print(max(t))"
   ]
  },
  {
   "cell_type": "markdown",
   "id": "8a954679",
   "metadata": {},
   "source": [
    "Find the minimum value in a tuple"
   ]
  },
  {
   "cell_type": "code",
   "execution_count": 33,
   "id": "ef86a03e",
   "metadata": {},
   "outputs": [
    {
     "name": "stdout",
     "output_type": "stream",
     "text": [
      "1\n"
     ]
    }
   ],
   "source": [
    "t=(1,2,3,4)\n",
    "print(min(t))"
   ]
  },
  {
   "cell_type": "markdown",
   "id": "cfbf504d",
   "metadata": {},
   "source": [
    "convert a string to tuple of characters"
   ]
  },
  {
   "cell_type": "code",
   "execution_count": 34,
   "id": "b174b29a",
   "metadata": {},
   "outputs": [
    {
     "name": "stdout",
     "output_type": "stream",
     "text": [
      "Enter the string:aditya\n",
      "('a', 'd', 'i', 't', 'y', 'a')\n"
     ]
    }
   ],
   "source": [
    "s=input(\"Enter the string:\")\n",
    "print(tuple(s))"
   ]
  },
  {
   "cell_type": "markdown",
   "id": "8637334e",
   "metadata": {},
   "source": [
    "Convert a tuple of character to a string"
   ]
  },
  {
   "cell_type": "code",
   "execution_count": 35,
   "id": "13ddc4b8",
   "metadata": {},
   "outputs": [
    {
     "name": "stdout",
     "output_type": "stream",
     "text": [
      "aditya\n"
     ]
    }
   ],
   "source": [
    "t=('a', 'd', 'i', 't', 'y', 'a')\n",
    "s=\"\"\n",
    "print(s.join(t))"
   ]
  },
  {
   "cell_type": "markdown",
   "id": "4dfe569c",
   "metadata": {},
   "source": [
    "Create a tuple from multiple datatypes"
   ]
  },
  {
   "cell_type": "code",
   "execution_count": null,
   "id": "5dfdc1bf",
   "metadata": {},
   "outputs": [],
   "source": []
  },
  {
   "cell_type": "markdown",
   "id": "187eaa6a",
   "metadata": {},
   "source": [
    "Check if two tuples are identical"
   ]
  },
  {
   "cell_type": "code",
   "execution_count": 39,
   "id": "4d6dbbd8",
   "metadata": {},
   "outputs": [
    {
     "name": "stdout",
     "output_type": "stream",
     "text": [
      "True\n"
     ]
    }
   ],
   "source": [
    "t1=(1,2,3,4)\n",
    "t2=(1,2,3,4)\n",
    "if t1==t2:\n",
    "    print(True)\n",
    "else:\n",
    "    print(False)"
   ]
  },
  {
   "cell_type": "markdown",
   "id": "9af828fe",
   "metadata": {},
   "source": [
    "sort the elements of a tuple"
   ]
  },
  {
   "cell_type": "code",
   "execution_count": 43,
   "id": "73497307",
   "metadata": {},
   "outputs": [
    {
     "name": "stdout",
     "output_type": "stream",
     "text": [
      "[1, 2, 2, 3, 4, 5]\n"
     ]
    }
   ],
   "source": [
    "t=(2,3,4,1,2,5)\n",
    "print(sorted(t))"
   ]
  },
  {
   "cell_type": "markdown",
   "id": "3dfc5dcc",
   "metadata": {},
   "source": [
    "Convert a tuple of integers to a tuple of a strings"
   ]
  },
  {
   "cell_type": "code",
   "execution_count": 44,
   "id": "4e5eeeb8",
   "metadata": {},
   "outputs": [
    {
     "name": "stdout",
     "output_type": "stream",
     "text": [
      "('1', '2', '3', '4')\n"
     ]
    }
   ],
   "source": [
    "t=(1,2,3,4)\n",
    "l=[]\n",
    "for i in t:\n",
    "    l.append(str(i))\n",
    "    \n",
    "print(tuple(l))"
   ]
  },
  {
   "cell_type": "markdown",
   "id": "a2b3b6e7",
   "metadata": {},
   "source": [
    "Convert a tuple of string to a tuple of a integers"
   ]
  },
  {
   "cell_type": "code",
   "execution_count": 45,
   "id": "b2b007d9",
   "metadata": {},
   "outputs": [
    {
     "name": "stdout",
     "output_type": "stream",
     "text": [
      "(97, 98, 99)\n"
     ]
    }
   ],
   "source": [
    "t=('a','b','c')\n",
    "l=[]\n",
    "for i in t:\n",
    "    l.append(ord(i))\n",
    "    \n",
    "print(tuple(l))"
   ]
  },
  {
   "cell_type": "markdown",
   "id": "c999c4e7",
   "metadata": {},
   "source": [
    "Merge two tuples"
   ]
  },
  {
   "cell_type": "code",
   "execution_count": 46,
   "id": "924d9ec6",
   "metadata": {},
   "outputs": [
    {
     "name": "stdout",
     "output_type": "stream",
     "text": [
      "(1, 2, 3, 4, 5, 6, 7, 8)\n"
     ]
    }
   ],
   "source": [
    "t1=(1,2,3,4)\n",
    "t2=(5,6,7,8)\n",
    "print(t1+t2)"
   ]
  },
  {
   "cell_type": "markdown",
   "id": "00e33781",
   "metadata": {},
   "source": [
    "Flatten a nested tuple"
   ]
  },
  {
   "cell_type": "code",
   "execution_count": 2,
   "id": "e4a722e6",
   "metadata": {},
   "outputs": [
    {
     "name": "stdout",
     "output_type": "stream",
     "text": [
      "Help on class tuple in module builtins:\n",
      "\n",
      "class tuple(object)\n",
      " |  tuple(iterable=(), /)\n",
      " |  \n",
      " |  Built-in immutable sequence.\n",
      " |  \n",
      " |  If no argument is given, the constructor returns an empty tuple.\n",
      " |  If iterable is specified the tuple is initialized from iterable's items.\n",
      " |  \n",
      " |  If the argument is a tuple, the return value is the same object.\n",
      " |  \n",
      " |  Built-in subclasses:\n",
      " |      asyncgen_hooks\n",
      " |      UnraisableHookArgs\n",
      " |  \n",
      " |  Methods defined here:\n",
      " |  \n",
      " |  __add__(self, value, /)\n",
      " |      Return self+value.\n",
      " |  \n",
      " |  __contains__(self, key, /)\n",
      " |      Return key in self.\n",
      " |  \n",
      " |  __eq__(self, value, /)\n",
      " |      Return self==value.\n",
      " |  \n",
      " |  __ge__(self, value, /)\n",
      " |      Return self>=value.\n",
      " |  \n",
      " |  __getattribute__(self, name, /)\n",
      " |      Return getattr(self, name).\n",
      " |  \n",
      " |  __getitem__(self, key, /)\n",
      " |      Return self[key].\n",
      " |  \n",
      " |  __getnewargs__(self, /)\n",
      " |  \n",
      " |  __gt__(self, value, /)\n",
      " |      Return self>value.\n",
      " |  \n",
      " |  __hash__(self, /)\n",
      " |      Return hash(self).\n",
      " |  \n",
      " |  __iter__(self, /)\n",
      " |      Implement iter(self).\n",
      " |  \n",
      " |  __le__(self, value, /)\n",
      " |      Return self<=value.\n",
      " |  \n",
      " |  __len__(self, /)\n",
      " |      Return len(self).\n",
      " |  \n",
      " |  __lt__(self, value, /)\n",
      " |      Return self<value.\n",
      " |  \n",
      " |  __mul__(self, value, /)\n",
      " |      Return self*value.\n",
      " |  \n",
      " |  __ne__(self, value, /)\n",
      " |      Return self!=value.\n",
      " |  \n",
      " |  __repr__(self, /)\n",
      " |      Return repr(self).\n",
      " |  \n",
      " |  __rmul__(self, value, /)\n",
      " |      Return value*self.\n",
      " |  \n",
      " |  count(self, value, /)\n",
      " |      Return number of occurrences of value.\n",
      " |  \n",
      " |  index(self, value, start=0, stop=9223372036854775807, /)\n",
      " |      Return first index of value.\n",
      " |      \n",
      " |      Raises ValueError if the value is not present.\n",
      " |  \n",
      " |  ----------------------------------------------------------------------\n",
      " |  Class methods defined here:\n",
      " |  \n",
      " |  __class_getitem__(...) from builtins.type\n",
      " |      See PEP 585\n",
      " |  \n",
      " |  ----------------------------------------------------------------------\n",
      " |  Static methods defined here:\n",
      " |  \n",
      " |  __new__(*args, **kwargs) from builtins.type\n",
      " |      Create and return a new object.  See help(type) for accurate signature.\n",
      "\n"
     ]
    }
   ],
   "source": [
    "t=((1, 2, 3, 4), (1, 2, 3, 4), (1, 2, 3, 4), (1, 2, 3, 4), (1, 2, 3, 4)"
   ]
  },
  {
   "cell_type": "markdown",
   "id": "d4e583e3",
   "metadata": {},
   "source": [
    "Create a tuple of first 5 prime numbers"
   ]
  },
  {
   "cell_type": "code",
   "execution_count": 8,
   "id": "7eac7aea",
   "metadata": {},
   "outputs": [
    {
     "name": "stdout",
     "output_type": "stream",
     "text": [
      "Enter the value of n:13\n",
      "(2, 3, 5, 7, 11, 13)\n"
     ]
    }
   ],
   "source": [
    "n=int(input(\"Enter the value of n:\"))\n",
    "\n",
    "\n",
    "\n",
    "def prime(n):\n",
    "    for i in range(2,n//2+1):\n",
    "        if n%i==0:\n",
    "            return False\n",
    "    return n\n",
    "\n",
    "t=tuple(filter(prime,range(2,n+1)))\n",
    "print(t)"
   ]
  },
  {
   "cell_type": "markdown",
   "id": "ebb8ded9",
   "metadata": {},
   "source": [
    "Check if a tuple is palindrome"
   ]
  },
  {
   "cell_type": "code",
   "execution_count": 21,
   "id": "2a2e5cb7",
   "metadata": {
    "scrolled": true
   },
   "outputs": [
    {
     "name": "stdout",
     "output_type": "stream",
     "text": [
      "1 2 2 4 3 2 2 1\n",
      "False\n"
     ]
    }
   ],
   "source": [
    "t=tuple(map(int, input().split()))\n",
    "\n",
    "if t==t[::-1]:\n",
    "    print(True)\n",
    "else:\n",
    "    print(False)"
   ]
  },
  {
   "cell_type": "markdown",
   "id": "0767d008",
   "metadata": {},
   "source": [
    "Create a tuple of squares of numbers from 1 to 5"
   ]
  },
  {
   "cell_type": "code",
   "execution_count": 25,
   "id": "e02f8a24",
   "metadata": {},
   "outputs": [
    {
     "name": "stdout",
     "output_type": "stream",
     "text": [
      "(1, 4, 9, 16, 25)\n"
     ]
    }
   ],
   "source": [
    "t=(x**2 for x in range(1,6))\n",
    "print(tuple(t))"
   ]
  },
  {
   "cell_type": "markdown",
   "id": "1ca71324",
   "metadata": {},
   "source": [
    "filter out all even numbers from a tuple"
   ]
  },
  {
   "cell_type": "code",
   "execution_count": 27,
   "id": "325f45d3",
   "metadata": {
    "scrolled": true
   },
   "outputs": [
    {
     "name": "stdout",
     "output_type": "stream",
     "text": [
      "1 2 3 4 5\n",
      "[2, 4]\n"
     ]
    }
   ],
   "source": [
    "t=tuple(map(int,input().split()))\n",
    "print(list(filter(lambda x:x%2==0,t)))"
   ]
  },
  {
   "cell_type": "markdown",
   "id": "18b1f8a1",
   "metadata": {},
   "source": [
    "Multiply all elements in a tuple by 2"
   ]
  },
  {
   "cell_type": "code",
   "execution_count": 29,
   "id": "d12c6bd1",
   "metadata": {},
   "outputs": [
    {
     "name": "stdout",
     "output_type": "stream",
     "text": [
      "1 2 3 4\n",
      "[2, 4, 6, 8]\n"
     ]
    }
   ],
   "source": [
    "t=tuple(map(int,input().split()))\n",
    "print(list(map(lambda x:x*2,t)))"
   ]
  },
  {
   "cell_type": "markdown",
   "id": "17756051",
   "metadata": {},
   "source": [
    "Create a tuple of random numbers"
   ]
  },
  {
   "cell_type": "code",
   "execution_count": 36,
   "id": "a6cb2ea2",
   "metadata": {},
   "outputs": [
    {
     "name": "stdout",
     "output_type": "stream",
     "text": [
      "(6, 0, 5, 9)\n"
     ]
    }
   ],
   "source": [
    "import random\n",
    "print(tuple(random.sample(range(10),4)))"
   ]
  },
  {
   "cell_type": "code",
   "execution_count": 42,
   "id": "78bd852e",
   "metadata": {},
   "outputs": [
    {
     "name": "stdout",
     "output_type": "stream",
     "text": [
      "(2, 7, 0, 4)\n"
     ]
    }
   ],
   "source": [
    "print(tuple(random.choices(range(10),k=4)))"
   ]
  },
  {
   "cell_type": "markdown",
   "id": "60d41234",
   "metadata": {},
   "source": [
    "Check if tuple is sorted"
   ]
  },
  {
   "cell_type": "code",
   "execution_count": 46,
   "id": "1ea881d1",
   "metadata": {},
   "outputs": [
    {
     "name": "stdout",
     "output_type": "stream",
     "text": [
      "1 2 3 4 5\n",
      "Enter the order you want to check: asc/dsc? asc\n"
     ]
    },
    {
     "data": {
      "text/plain": [
       "'Tuple is sorted'"
      ]
     },
     "execution_count": 46,
     "metadata": {},
     "output_type": "execute_result"
    }
   ],
   "source": [
    "t=tuple(map(int,input().split()))\n",
    "sort=input(\"Enter the order you want to check: asc/dsc? \")\n",
    "\n",
    "def checksorted(s,t):\n",
    "\n",
    "    if s=='asc':\n",
    "        for i in range(len(t)-1):\n",
    "            if t[i]>t[i+1]:\n",
    "                return \"Tuple is not sorted\"\n",
    "        return \"Tuple is sorted\"\n",
    "    elif  s=='dsc':\n",
    "        \n",
    "        for i in range(len(t)-1):\n",
    "            if t[i]<t[i+1]:\n",
    "                return \"Tuple is not sorted\"\n",
    "        return \"Tuple is sorted\"\n",
    "\n",
    "    else:\n",
    "        return \"invalid input\"\n",
    "    \n",
    "checksorted(sort,t)"
   ]
  },
  {
   "cell_type": "markdown",
   "id": "33913b77",
   "metadata": {},
   "source": [
    "Rotate a tuple to the left  by n positions"
   ]
  },
  {
   "cell_type": "code",
   "execution_count": 50,
   "id": "3aca7d6b",
   "metadata": {},
   "outputs": [
    {
     "name": "stdout",
     "output_type": "stream",
     "text": [
      "1 2 3 4 5 6\n",
      "Enter the value to rotate:4\n",
      "(5, 6, 1, 2, 3, 4)\n"
     ]
    }
   ],
   "source": [
    "t=tuple(map(int,input().split()))\n",
    "l=list(t)\n",
    "k=int(input(\"Enter the value to rotate:\"))\n",
    "for i in range(k):\n",
    "    first=l[0]\n",
    "    for i in range(len(l)-1):\n",
    "        l[i]=l[i+1]\n",
    "        \n",
    "    l[len(l)-1]=first\n",
    "    \n",
    "print(tuple(l))\n",
    "        "
   ]
  },
  {
   "cell_type": "code",
   "execution_count": 66,
   "id": "87ea8da5",
   "metadata": {},
   "outputs": [
    {
     "name": "stdout",
     "output_type": "stream",
     "text": [
      "1 2 3 4\n",
      "Enter the value to rotate:2\n",
      "(3, 4, 1, 2)\n"
     ]
    }
   ],
   "source": [
    "t=tuple(map(int,input().split()))\n",
    "l=list(t)\n",
    "k=int(input(\"Enter the value to rotate:\"))\n",
    "for i in range(k):\n",
    "    last=l[-1]\n",
    "    for i in range(len(l)-1,0,-1):\n",
    "        l[i]=l[i-1]\n",
    "        \n",
    "    l[0]=last\n",
    "    \n",
    "print(tuple(l))"
   ]
  },
  {
   "cell_type": "markdown",
   "id": "1e92e829",
   "metadata": {},
   "source": [
    "Create a tuple of first 5 fibonacci number"
   ]
  },
  {
   "cell_type": "code",
   "execution_count": 68,
   "id": "016776b4",
   "metadata": {},
   "outputs": [
    {
     "name": "stdout",
     "output_type": "stream",
     "text": [
      "(1, 2, 3, 5, 8)\n"
     ]
    }
   ],
   "source": [
    "l=[]\n",
    "a=0\n",
    "b=1\n",
    "for i in range(5):\n",
    "    c=a+b\n",
    "    l.append(c)\n",
    "    a=b\n",
    "    b=c\n",
    "    \n",
    "print(tuple(l))"
   ]
  },
  {
   "cell_type": "markdown",
   "id": "363676ae",
   "metadata": {},
   "source": [
    "Create a tuple from user input"
   ]
  },
  {
   "cell_type": "code",
   "execution_count": 1,
   "id": "22070a19",
   "metadata": {},
   "outputs": [
    {
     "name": "stdout",
     "output_type": "stream",
     "text": [
      "1 2 3 4 5\n",
      "<class 'tuple'>\n"
     ]
    }
   ],
   "source": [
    "t=tuple(map(int,input().split()))\n",
    "print(type(t))"
   ]
  },
  {
   "cell_type": "markdown",
   "id": "01756458",
   "metadata": {},
   "source": [
    "Swap two elements in a tuple"
   ]
  },
  {
   "cell_type": "code",
   "execution_count": 4,
   "id": "a16c6f27",
   "metadata": {},
   "outputs": [
    {
     "name": "stdout",
     "output_type": "stream",
     "text": [
      "1 2 3 4 5\n",
      "Enter the number to swap:2\n",
      "Enter the numberwith which you want to swap:5\n"
     ]
    },
    {
     "data": {
      "text/plain": [
       "(1, 5, 3, 4, 2)"
      ]
     },
     "execution_count": 4,
     "metadata": {},
     "output_type": "execute_result"
    }
   ],
   "source": [
    "t=tuple(map(int,input().split()))\n",
    "n=int(input(\"Enter the number to swap:\"))\n",
    "n1=int(input(\"Enter the numberwith which you want to swap:\"))\n",
    "\n",
    "def swap(n,n1):\n",
    "    if n and n1 in t:\n",
    "        a=n\n",
    "        l=list(t)\n",
    "        l[t.index(n1)]=a\n",
    "        l[t.index(n)]=n1\n",
    "        \n",
    "    return tuple(l)\n",
    "\n",
    "swap(n,n1)\n"
   ]
  },
  {
   "cell_type": "markdown",
   "id": "abd1af25",
   "metadata": {},
   "source": [
    "Reverse the element of a tuple"
   ]
  },
  {
   "cell_type": "code",
   "execution_count": 5,
   "id": "854d1218",
   "metadata": {
    "scrolled": true
   },
   "outputs": [
    {
     "name": "stdout",
     "output_type": "stream",
     "text": [
      "1 2 3 4 5\n",
      "(5, 4, 3, 2, 1)\n"
     ]
    }
   ],
   "source": [
    "t=tuple(map(int,input().split()))\n",
    "print(t[::-1])"
   ]
  },
  {
   "cell_type": "markdown",
   "id": "ea600387",
   "metadata": {},
   "source": [
    "Create a tuple of the first n powers of 2"
   ]
  },
  {
   "cell_type": "code",
   "execution_count": 6,
   "id": "17bac452",
   "metadata": {},
   "outputs": [
    {
     "name": "stdout",
     "output_type": "stream",
     "text": [
      "Enter the number upto which you want the power of 2:5\n",
      "(2, 4, 8, 16, 32)\n"
     ]
    }
   ],
   "source": [
    "l=[]\n",
    "n=int(input(\"Enter the number upto which you want the power of 2:\"))\n",
    "for i in range(1,n+1):\n",
    "    l.append(2**i)\n",
    "    \n",
    "print(tuple(l))"
   ]
  },
  {
   "cell_type": "markdown",
   "id": "0fa937a3",
   "metadata": {},
   "source": [
    "Find the longest string in a tuple of strings"
   ]
  },
  {
   "cell_type": "code",
   "execution_count": 7,
   "id": "3d773b8b",
   "metadata": {},
   "outputs": [
    {
     "name": "stdout",
     "output_type": "stream",
     "text": [
      "aditya singh is a good boy\n",
      "aditya\n"
     ]
    }
   ],
   "source": [
    "t=tuple(map(str,input().split()))\n",
    "l=0\n",
    "for i in t:\n",
    "    if len(i)>l:\n",
    "        l=len(i)\n",
    "        a=i\n",
    "        \n",
    "print(a)\n",
    "    "
   ]
  },
  {
   "cell_type": "markdown",
   "id": "6422c3c5",
   "metadata": {},
   "source": [
    "Find the shortest string in a tuple of strings"
   ]
  },
  {
   "cell_type": "code",
   "execution_count": 10,
   "id": "8ea21596",
   "metadata": {},
   "outputs": [
    {
     "name": "stdout",
     "output_type": "stream",
     "text": [
      "aditya singh is a good boy\n",
      "a\n"
     ]
    }
   ],
   "source": [
    "t=tuple(map(str,input().split()))\n",
    "l=float('inf')\n",
    "for i in t:\n",
    "    if len(i)<l:\n",
    "        l=len(i)\n",
    "        a=i\n",
    "        \n",
    "print(a)"
   ]
  },
  {
   "cell_type": "code",
   "execution_count": 12,
   "id": "eee4d95e",
   "metadata": {},
   "outputs": [
    {
     "name": "stdout",
     "output_type": "stream",
     "text": [
      "Enter the number of triangular number you want:5\n",
      "(15, 10, 6, 3, 1)\n"
     ]
    }
   ],
   "source": [
    "l=[]\n",
    "n=int(input(\"Enter the number of triangular number you want:\"))\n",
    "\n",
    "for i in range(n,0,-1):\n",
    "    sum=0\n",
    "    while i>0:\n",
    "        sum=sum+i\n",
    "        i=i-1\n",
    "    l.append(sum)\n",
    "    \n",
    "print(tuple(l))\n",
    "    \n",
    "    "
   ]
  },
  {
   "cell_type": "code",
   "execution_count": 21,
   "id": "d5aff731",
   "metadata": {},
   "outputs": [
    {
     "name": "stdout",
     "output_type": "stream",
     "text": [
      "1 2 3 4 5\n",
      "2 4\n",
      "contains\n"
     ]
    }
   ],
   "source": [
    "t=tuple(map(int,input().split()))\n",
    "t1=tuple(map(int,input().split()))\n",
    "if all(i in t for i in t1):\n",
    "    print(\"contains\")\n",
    "else:\n",
    "    print(\"do not contains\")\n",
    "    "
   ]
  },
  {
   "cell_type": "markdown",
   "id": "ef1a83ee",
   "metadata": {},
   "source": [
    "Create a tuple of alternating 1s and 0s of length n"
   ]
  },
  {
   "cell_type": "code",
   "execution_count": 26,
   "id": "5c3a75d5",
   "metadata": {},
   "outputs": [
    {
     "name": "stdout",
     "output_type": "stream",
     "text": [
      "Enter the length of the tuple:6\n",
      "[1, 0, 1, 0, 1, 0, 1]\n"
     ]
    }
   ],
   "source": [
    "l=[]\n",
    "n=int(input(\"Enter the length of the tuple:\"))\n",
    "import random\n",
    "l.append(random.choice([0,1]))\n",
    "for i in range(n):\n",
    "    if l[-1]==1:\n",
    "        l.append(0)\n",
    "    else:\n",
    "        l.append(1)\n",
    "        \n",
    "print(l)\n"
   ]
  },
  {
   "cell_type": "code",
   "execution_count": null,
   "id": "c0c16105",
   "metadata": {},
   "outputs": [],
   "source": []
  }
 ],
 "metadata": {
  "kernelspec": {
   "display_name": "Python 3 (ipykernel)",
   "language": "python",
   "name": "python3"
  },
  "language_info": {
   "codemirror_mode": {
    "name": "ipython",
    "version": 3
   },
   "file_extension": ".py",
   "mimetype": "text/x-python",
   "name": "python",
   "nbconvert_exporter": "python",
   "pygments_lexer": "ipython3",
   "version": "3.11.4"
  }
 },
 "nbformat": 4,
 "nbformat_minor": 5
}
