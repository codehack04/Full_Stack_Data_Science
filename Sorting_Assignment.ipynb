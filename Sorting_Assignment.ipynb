{
 "cells": [
  {
   "cell_type": "markdown",
   "id": "eaef3794-7334-4aba-90af-eac43a46746a",
   "metadata": {},
   "source": [
    "Problem 1.Given an array of n numbers, give an algorithm which gives the element appearing maximum\n",
    "number of times?"
   ]
  },
  {
   "cell_type": "code",
   "execution_count": 5,
   "id": "aac11150-fa8d-4036-a70c-c4f9f8e82690",
   "metadata": {},
   "outputs": [
    {
     "name": "stdout",
     "output_type": "stream",
     "text": [
      "4\n"
     ]
    }
   ],
   "source": [
    "def maxcount(arr,mini,length,i):\n",
    "    if length>=len(arr):\n",
    "        return arr[i]\n",
    "    elif arr.count(arr[length])>mini:\n",
    "        i=length\n",
    "        mini=arr.count(arr[length])\n",
    "        return maxcount(arr,mini,length+1,i)\n",
    "    else:\n",
    "        return maxcount(arr,mini,length+1,i)\n",
    "    \n",
    "arr=[1,2,1,2,2,3,4,4,4,4,4]\n",
    "print(maxcount(arr,0,0,0))\n",
    "                   \n",
    "                   "
   ]
  },
  {
   "cell_type": "markdown",
   "id": "e0418e77-7102-40fa-8720-1ec741fce1e1",
   "metadata": {},
   "source": [
    "Problem 2 : We are given a list of n-1 integers and these integers are in the range of 1 to n . There are no\n",
    "duplicates in the list. One of the integers is missing in the list. Give an algorithm to find that element Ex:\n",
    "[1,2,4,6,3,7,8] 5 is the missing num."
   ]
  },
  {
   "cell_type": "code",
   "execution_count": 7,
   "id": "6d6e4507-7fb0-453a-9f49-5483bf5441eb",
   "metadata": {},
   "outputs": [
    {
     "data": {
      "text/plain": [
       "4"
      ]
     },
     "execution_count": 7,
     "metadata": {},
     "output_type": "execute_result"
    }
   ],
   "source": [
    "def sorting(arr):\n",
    "    for i in range(len(arr)):\n",
    "        v=arr[i]\n",
    "        j=i\n",
    "        while(j>=1 and arr[j-1]>v):\n",
    "            arr[j]=arr[j-1]\n",
    "            j-=1\n",
    "        arr[j]=v\n",
    "    return arr\n",
    "\n",
    "def missing(arr):\n",
    "    for i in range(len(arr)):\n",
    "        if arr[i]!=i+1:\n",
    "            return i+1\n",
    "        \n",
    "arr=[1,2,5,6,3,7,8]\n",
    "missing(sorting(arr))"
   ]
  },
  {
   "cell_type": "markdown",
   "id": "07cc4b9a-7421-4b9c-9e8d-01c9dac45e3b",
   "metadata": {},
   "source": [
    "Problem 3 : Given an array of n positive numbers. All numbers occurs even number of times except 1 which\n",
    "occurs odd number of times. Find that number in O(n) time and O(1) space. Ex: [1,2,3,2,3,1,3]. 3 is repeats odd\n",
    "times."
   ]
  },
  {
   "cell_type": "code",
   "execution_count": 10,
   "id": "33a12543-a8df-4a20-a73d-4bfc883cd4e3",
   "metadata": {},
   "outputs": [
    {
     "data": {
      "text/plain": [
       "4"
      ]
     },
     "execution_count": 10,
     "metadata": {},
     "output_type": "execute_result"
    }
   ],
   "source": [
    "def odd_occurrence(arr):\n",
    "    result=0\n",
    "    for i in arr:\n",
    "        result^=i\n",
    "    return result\n",
    "\n",
    "arr= [1,2,4,2,3,1,3]\n",
    "odd_occurrence(arr)\n",
    "\n"
   ]
  },
  {
   "cell_type": "markdown",
   "id": "c701cfd2-4db5-4ed0-ad13-c3d8e92ecd9b",
   "metadata": {},
   "source": [
    "Given an array of n elements. Find two elements in the array such that their sum is equal to given\n",
    "element K."
   ]
  },
  {
   "cell_type": "code",
   "execution_count": 13,
   "id": "71df3561-1262-4f9d-a92b-abc7d9b3e20d",
   "metadata": {},
   "outputs": [
    {
     "data": {
      "text/plain": [
       "(1, 5)"
      ]
     },
     "execution_count": 13,
     "metadata": {},
     "output_type": "execute_result"
    }
   ],
   "source": [
    "def sorting(arr):\n",
    "    for i in range(len(arr)-1):\n",
    "        min=i\n",
    "        for j in range(i+1,len(arr)):\n",
    "            if arr[j]<arr[min]:\n",
    "                min=j\n",
    "                \n",
    "        arr[i],arr[min]=arr[min],arr[i]\n",
    "    return arr\n",
    "def sum2(arr,k):\n",
    "    left=0\n",
    "    right=len(arr)-1\n",
    "    \n",
    "    while(left<right):\n",
    "        if arr[left]+arr[right]==k:\n",
    "            return arr[left],arr[right]\n",
    "        elif arr[left]+arr[right]>k:\n",
    "            right-=1\n",
    "        else:\n",
    "            left-=1\n",
    "            \n",
    "    print(\"No such elements present in the given array\")\n",
    "    \n",
    "arr=[1,3,2,4,5,6]\n",
    "k=6\n",
    "sum2(sorting(arr),k)\n",
    "        "
   ]
  },
  {
   "cell_type": "markdown",
   "id": "31cc1d9d-837a-4eed-af39-e0a1f5704d38",
   "metadata": {},
   "source": [
    "Problem 5 : Given an array of both positive and negative numbers, find two numbers such that their sum is\n",
    "closest to 0. Ex: [ 1 ,60 ,-10, 70, -80,85]. Ans : -80,85."
   ]
  },
  {
   "cell_type": "code",
   "execution_count": 2,
   "id": "0f90d009-e6a5-438b-a20d-a0105894c829",
   "metadata": {},
   "outputs": [
    {
     "data": {
      "text/plain": [
       "[-80, -10, 1, 60, 70, 85]"
      ]
     },
     "execution_count": 2,
     "metadata": {},
     "output_type": "execute_result"
    }
   ],
   "source": [
    "l=[1,60,-10,70,-80,85]\n",
    "l.sort()\n",
    "l                           "
   ]
  },
  {
   "cell_type": "code",
   "execution_count": 7,
   "id": "a74c9d79-c35c-4fa8-851d-d4526881c37b",
   "metadata": {},
   "outputs": [
    {
     "data": {
      "text/plain": [
       "(-80, 85)"
      ]
     },
     "execution_count": 7,
     "metadata": {},
     "output_type": "execute_result"
    }
   ],
   "source": [
    "def closet_0(arr,left,right,num1,num2,mini):\n",
    "    if left>=right or mini==0:\n",
    "        return (num1,num2)\n",
    "    elif abs(arr[right]+arr[left])<mini:\n",
    "        mini=abs(arr[right]+arr[left])\n",
    "        num1,num2=arr[left],arr[right]\n",
    "        return closet_0(arr,left+1,right,num1,num2,mini)\n",
    "    else:\n",
    "        return closet_0(arr,left,right-1,num1,num2,mini)\n",
    "    \n",
    "def sorting(arr):\n",
    "    for i in range(len(arr)-1):\n",
    "        v=arr[i]\n",
    "        j=i\n",
    "        while(j>=1 and arr[j-1]>v):\n",
    "            arr[j]=arr[j-1]\n",
    "            j-=1\n",
    "        arr[j]=v\n",
    "    return arr\n",
    "    \n",
    "    \n",
    "arr=[1,60,-10,70,-80,85]\n",
    "mini=float(\"inf\")\n",
    "left=0\n",
    "right=len(arr)-1\n",
    "closet_0(sorting(arr),left,right,0,0,mini)\n",
    "                 \n",
    "                 \n",
    "        \n",
    "             "
   ]
  },
  {
   "cell_type": "markdown",
   "id": "1724e3bc-39da-4122-b813-7d9576283abd",
   "metadata": {},
   "source": [
    "Problem 6 : Given an array of n elements . Find three elements such that their sum is equal to the given\n",
    "number."
   ]
  },
  {
   "cell_type": "code",
   "execution_count": 3,
   "id": "3abf83d7-62c7-4387-902c-a564b9b63e54",
   "metadata": {},
   "outputs": [
    {
     "name": "stdin",
     "output_type": "stream",
     "text": [
      "Enter the sum:  6\n"
     ]
    },
    {
     "data": {
      "text/plain": [
       "(1, 2, 3)"
      ]
     },
     "execution_count": 3,
     "metadata": {},
     "output_type": "execute_result"
    }
   ],
   "source": [
    "k=int(input(\"Enter the sum: \"))\n",
    "def sum_element(arr,k):\n",
    "    for i in range(len(arr)-2):\n",
    "        left=i+1\n",
    "        right=len(arr)-1\n",
    "        while(left<right):\n",
    "            if arr[i]+arr[left]+arr[right]==k:\n",
    "                return arr[i],arr[left],arr[right]\n",
    "            elif arr[i]+arr[left]+arr[right]>k:\n",
    "                right-=1\n",
    "            else:\n",
    "                left+=1\n",
    "    print(f\"No three elements sum is equal to {k}\")\n",
    "        \n",
    "def sort_arr(arr):\n",
    "    for i in range(len(arr)-1):\n",
    "        mini=i\n",
    "        for j in range(i+1,len(arr)):\n",
    "            if arr[mini]>arr[j]:\n",
    "                mini=j\n",
    "                \n",
    "        arr[i],arr[mini]=arr[mini],arr[i]\n",
    "    return arr\n",
    "\n",
    "arr=[1,3,4,2,6]\n",
    "sum_element(sort_arr(arr),k)"
   ]
  },
  {
   "cell_type": "markdown",
   "id": "32b46467-100f-4809-b20c-588286c55b93",
   "metadata": {},
   "source": [
    "Problem 7 : Given an array of n elements . Find three elements i, j, k in the array such that\n",
    "i * i + j * j = k*k"
   ]
  },
  {
   "cell_type": "code",
   "execution_count": 9,
   "id": "01d8fc3c-23da-4ab8-b271-0bc8471c8fa5",
   "metadata": {},
   "outputs": [
    {
     "data": {
      "text/plain": [
       "(5, 12, 13)"
      ]
     },
     "execution_count": 9,
     "metadata": {},
     "output_type": "execute_result"
    }
   ],
   "source": [
    "def elements(arr):\n",
    "    for i in range(len(arr)-2):\n",
    "        j=i+1\n",
    "        k=len(arr)-1\n",
    "        while(j<k):\n",
    "            if arr[i]*arr[i]+arr[j]*arr[j]==arr[k]*arr[k]:\n",
    "                return arr[i],arr[j],arr[k]\n",
    "            elif arr[i]*arr[i]+arr[j]*arr[j]>arr[k]*arr[k]:\n",
    "                j+=1\n",
    "            else:\n",
    "                k-=1\n",
    "    print(\"No such elements are present:\")\n",
    "    \n",
    "def bubble_sort(arr):\n",
    "    for i in range(len(arr)-1,0,-1):\n",
    "        for j in range(i):\n",
    "            if (arr[j]>arr[j+1]):\n",
    "                arr[j],arr[j+1]=arr[j+1],arr[j]\n",
    "                \n",
    "    return arr\n",
    "\n",
    "arr=[4,2,12,5,13]\n",
    "elements(bubble_sort(arr))"
   ]
  },
  {
   "cell_type": "markdown",
   "id": "caf8fbc3-5c6b-45c2-878a-0b981b8f569e",
   "metadata": {},
   "source": [
    "Problem 8 : An element is a majority if it appears more than n/2 times. Give an algorithm takes an array of n\n",
    "element as argument and identifies a majority (if it exists)."
   ]
  },
  {
   "cell_type": "code",
   "execution_count": 14,
   "id": "4dbd6c31-621b-4de8-a7eb-cc984ba93f57",
   "metadata": {},
   "outputs": [
    {
     "data": {
      "text/plain": [
       "'2 is a majority'"
      ]
     },
     "execution_count": 14,
     "metadata": {},
     "output_type": "execute_result"
    }
   ],
   "source": [
    "def majority(arr):\n",
    "    for i in range(len(arr)):\n",
    "        c=0\n",
    "        v=arr[i]\n",
    "        for j in range(len(arr)):\n",
    "            if arr[j]==v:\n",
    "                c+=1\n",
    "        if c>len(arr)//2:\n",
    "            return f\"{arr[i]} is a majority\"\n",
    "    return \"Majority do not exists\"\n",
    "\n",
    "def sorting(arr):\n",
    "    for i in range(len(arr)-1):\n",
    "        mini=i\n",
    "        for j in range(i+1,len(arr)):\n",
    "            if arr[j]<arr[mini]:\n",
    "                mini=j\n",
    "        arr[i],arr[mini]=arr[mini],arr[i]\n",
    "        \n",
    "    return arr\n",
    "\n",
    "arr=[1,3,2,2,2,4,6,5,2,2,2]\n",
    "majority(sorting(arr))\n",
    "                "
   ]
  },
  {
   "cell_type": "markdown",
   "id": "63553e0a-c26d-4f40-805c-25eac4de97af",
   "metadata": {},
   "source": [
    "Problem 9 : Given n × n matrix, and in each row all 1’s are followed by 0’s. Find the row with the maximum\n",
    "number of 0’s."
   ]
  },
  {
   "cell_type": "code",
   "execution_count": 31,
   "id": "bd7cd8b5-6b91-4e9f-bd17-57cf37199fbd",
   "metadata": {},
   "outputs": [
    {
     "data": {
      "text/plain": [
       "'Row with maximum number of 0 is 1'"
      ]
     },
     "execution_count": 31,
     "metadata": {},
     "output_type": "execute_result"
    }
   ],
   "source": [
    "def max_0(arr):\n",
    "    mini=0\n",
    "    row=0\n",
    "    for i in range(len(arr)):\n",
    "        c=0\n",
    "        for j in arr[i]:\n",
    "            if j==0:\n",
    "                c+=1\n",
    "        if c>mini:\n",
    "            mini=c\n",
    "            row=i\n",
    "            \n",
    "    return f\"Row with maximum number of 0 is {row}\"\n",
    "\n",
    "arr=[[1,0,1],\n",
    "     [1,0,0],\n",
    "     [1,2,0]]\n",
    "\n",
    "max_0(arr)\n",
    "     \n",
    "    \n",
    "    \n",
    "            \n",
    "            \n",
    "            "
   ]
  },
  {
   "cell_type": "markdown",
   "id": "2b182a00-8000-40c6-83f4-7e90f625e647",
   "metadata": {},
   "source": [
    "Problem 10 : Sort an array of 0’s, 1’s and 2’s [or R’s, G’s and B’s]: Given an array A[] consisting of 0’s, 1’s and\n",
    "2’s, give an algorithm for sorting A[].The algorithm should put all 0’s first, then all 1’s and finally all 2’s at the\n",
    "end. Example Input = {0,1,1,0,1,2,1,2,0,0,0,1}, Output = {0,0,0,0,0,1,1,1,1,1,2,2}"
   ]
  },
  {
   "cell_type": "code",
   "execution_count": 36,
   "id": "b81cc7ff-ad6b-4bdf-92cd-157e205030cd",
   "metadata": {},
   "outputs": [
    {
     "data": {
      "text/plain": [
       "[0, 0, 0, 0, 0, 0, 2, 1, 1, 1, 2, 1]"
      ]
     },
     "execution_count": 36,
     "metadata": {},
     "output_type": "execute_result"
    }
   ],
   "source": [
    "def sort_array(a):\n",
    "    i=0\n",
    "    j=len(a)-1\n",
    "    while (i<j):\n",
    "        while(a[i]==0 and i<j):\n",
    "            i+=1\n",
    "            \n",
    "        while(i<j and a[j] in [1,2]):\n",
    "            left=j\n",
    "            \n",
    "            \n",
    "            j-=1\n",
    "        if i<j:\n",
    "            a[i],a[j]=a[j],a[i]\n",
    "            i+=1\n",
    "            j-=1\n",
    "              \n",
    "        \n",
    "    return a\n",
    "\n",
    "a=[1,0,2,0,1,0,2,1,1,0,0,0]\n",
    "sort_array(a)\n",
    "              "
   ]
  },
  {
   "cell_type": "code",
   "execution_count": null,
   "id": "b218af7d-7688-41e1-96ce-22fbecc21cf3",
   "metadata": {},
   "outputs": [],
   "source": []
  },
  {
   "cell_type": "code",
   "execution_count": null,
   "id": "1cbc5220-abfd-4ed3-bd99-3167854170e1",
   "metadata": {},
   "outputs": [],
   "source": []
  }
 ],
 "metadata": {
  "kernelspec": {
   "display_name": "Python 3 (ipykernel)",
   "language": "python",
   "name": "python3"
  },
  "language_info": {
   "codemirror_mode": {
    "name": "ipython",
    "version": 3
   },
   "file_extension": ".py",
   "mimetype": "text/x-python",
   "name": "python",
   "nbconvert_exporter": "python",
   "pygments_lexer": "ipython3",
   "version": "3.10.8"
  }
 },
 "nbformat": 4,
 "nbformat_minor": 5
}
